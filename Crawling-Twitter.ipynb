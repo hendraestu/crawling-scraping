{
  "cells": [
    {
      "cell_type": "markdown",
      "metadata": {
        "id": "gG3lZ9LWm5zp"
      },
      "source": [
        "#ambil data tweet"
      ]
    },
    {
      "cell_type": "code",
      "execution_count": null,
      "metadata": {
        "colab": {
          "background_save": true
        },
        "id": "MVEuqLnYLLEr"
      },
      "outputs": [],
      "source": [
        "#pip install tweepy "
      ]
    },
    {
      "cell_type": "markdown",
      "metadata": {
        "id": "ZYuPRsYynIpp"
      },
      "source": [
        "##import library & token"
      ]
    },
    {
      "cell_type": "code",
      "execution_count": null,
      "metadata": {
        "colab": {
          "background_save": true
        },
        "id": "dI3DNPceLUEq"
      },
      "outputs": [],
      "source": [
        "import tweepy\n",
        "import csv\n",
        "import re\n",
        "import pandas as pd\n",
        "\n",
        "access_token = \"1101429342041604096-brplhFporydhLgep9zE2JJD63Yehmc\"\n",
        "access_token_secret = \"m0LewkNeSpBTH03m9jMFlxkEO3Vg8e36ReHnRN1Pj0MA0\"\n",
        "consumer_key = \"N5qi9C8J4c1MSmL7mAeH2JW4v\"\n",
        "consumer_secret = \"jjsz4HTeI1vUHtCxdp3PdnKDl7REBioqkhz9ossKiXj5AekuJJ\""
      ]
    },
    {
      "cell_type": "markdown",
      "metadata": {
        "id": "HExdkQ-HnwqY"
      },
      "source": [
        "##membuat csv timeline tweet"
      ]
    },
    {
      "cell_type": "code",
      "execution_count": null,
      "metadata": {
        "colab": {
          "background_save": true
        },
        "id": "0WP1XLmmLloB"
      },
      "outputs": [],
      "source": [
        "tweets_for_csv = []\n",
        "\n",
        "def get_tweets(username):\n",
        "    auth = tweepy.OAuthHandler(consumer_key, consumer_secret)\n",
        "    auth.set_access_token(access_token, access_token_secret)\n",
        "    api = tweepy.API(auth)    \n",
        "    \n",
        "    limit = 101\n",
        "    print('- Username : @'+username)    \n",
        "    \n",
        "    for tweet in tweepy.Cursor(api.user_timeline, \n",
        "    screen_name=username, include_rts=False,  \n",
        "    tweet_mode='extended').items(limit):\n",
        "        actualTweet = re.sub(r'\\s+', ' ', tweet.full_text)\n",
        "        tweets_for_csv.append(\n",
        "            [actualTweet])"
      ]
    },
    {
      "cell_type": "code",
      "execution_count": null,
      "metadata": {
        "colab": {
          "background_save": true,
          "base_uri": "https://localhost:8080/"
        },
        "id": "nsbm0Ep2Lpjd",
        "outputId": "35c81973-894d-4630-ef6b-17d56bcc98d2"
      },
      "outputs": [
        {
          "name": "stdout",
          "output_type": "stream",
          "text": [
            "\n",
            "Get tweet from username ...\n",
            "- Username : @kompascom\n",
            "\n",
            "writing to 'timeline.csv' complete.\n"
          ]
        }
      ],
      "source": [
        "if __name__ == '__main__':\n",
        "    users = ['kompascom']\n",
        "    \n",
        "    print(\"\\nGet tweet from username ...\")\n",
        "    for user in users:\n",
        "        get_tweets(user)    \n",
        "        \n",
        "    outfile = \"timeline.csv\"\n",
        "    with open(outfile, 'w', newline='', encoding='utf-8') as csvfile:\n",
        "        csvwriter = csv.writer(csvfile)\n",
        "        csvwriter.writerow([\"tweet\"])\n",
        "        csvwriter.writerows(tweets_for_csv)\n",
        "    \n",
        "    print(\"\\nwriting to '\" + outfile + \"' complete.\")"
      ]
    },
    {
      "cell_type": "markdown",
      "metadata": {
        "id": "_JutKz4HrghB"
      },
      "source": [
        "#case folding\n"
      ]
    },
    {
      "cell_type": "code",
      "execution_count": null,
      "metadata": {
        "colab": {
          "base_uri": "https://localhost:8080/"
        },
        "id": "eMCQ68ReoBzT",
        "outputId": "5e3d3315-1d1c-4582-9e57-5a545a365be4"
      },
      "outputs": [
        {
          "name": "stdout",
          "output_type": "stream",
          "text": [
            "                                               tweet\n",
            "0  Fakta tentang gagal jantung, mulai dari tips m...\n",
            "1  (Kemenhub) telah memberlakukan aturan terbaru ...\n",
            "2  Berikut daftar PTN maupun PTS yang masuk pemer...\n",
            "3  Rektor Jamal sangat menyesalkan terjadinya per...\n"
          ]
        }
      ],
      "source": [
        "import pandas as pd\n",
        "dframe = pd.read_csv(\"timeline.csv\")\n",
        "print(dframe[:4])"
      ]
    },
    {
      "cell_type": "code",
      "execution_count": null,
      "metadata": {
        "colab": {
          "base_uri": "https://localhost:8080/"
        },
        "id": "wj1QIMKoq_x4",
        "outputId": "3f042998-d76a-4d5c-fcaa-a132f7a2fc60"
      },
      "outputs": [
        {
          "name": "stdout",
          "output_type": "stream",
          "text": [
            "0    Fakta tentang gagal jantung, mulai dari tips m...\n",
            "1    (Kemenhub) telah memberlakukan aturan terbaru ...\n",
            "2    Berikut daftar PTN maupun PTS yang masuk pemer...\n",
            "3    Rektor Jamal sangat menyesalkan terjadinya per...\n",
            "Name: tweet, dtype: object\n"
          ]
        }
      ],
      "source": [
        "data_ulasan = dframe['tweet']\n",
        "print(data_ulasan[:4])"
      ]
    },
    {
      "cell_type": "code",
      "execution_count": null,
      "metadata": {
        "colab": {
          "base_uri": "https://localhost:8080/"
        },
        "id": "p4Ikt5q7pzpc",
        "outputId": "d44b0acc-8594-49ff-e750-2dc05bdd383c"
      },
      "outputs": [
        {
          "data": {
            "text/plain": [
              "0    fakta tentang gagal jantung, mulai dari tips m...\n",
              "1    (kemenhub) telah memberlakukan aturan terbaru ...\n",
              "2    berikut daftar ptn maupun pts yang masuk pemer...\n",
              "3    rektor jamal sangat menyesalkan terjadinya per...\n",
              "4    \"aksi 10 november diikuti lebih 10.000-an buru...\n",
              "Name: tweet, dtype: object"
            ]
          },
          "execution_count": 7,
          "metadata": {},
          "output_type": "execute_result"
        }
      ],
      "source": [
        "#casefolding\n",
        "data_casefolding = data_ulasan.str.lower()\n",
        "data_casefolding.head()"
      ]
    },
    {
      "cell_type": "markdown",
      "metadata": {
        "id": "6dFVKkS0ro4v"
      },
      "source": [
        "#Tokenization"
      ]
    },
    {
      "cell_type": "code",
      "execution_count": null,
      "metadata": {
        "colab": {
          "base_uri": "https://localhost:8080/"
        },
        "id": "TrNoQ_kDqy4g",
        "outputId": "ab53bb37-0915-4fd0-e7ac-2a7d8b4831a5"
      },
      "outputs": [
        {
          "name": "stdout",
          "output_type": "stream",
          "text": [
            "0    fakta tentang gagal jantung  mulai dari tips m...\n",
            "1     kemenhub  telah memberlakukan aturan terbaru ...\n",
            "2    berikut daftar ptn maupun pts yang masuk pemer...\n",
            "3    rektor jamal sangat menyesalkan terjadinya per...\n",
            "dtype: object\n"
          ]
        }
      ],
      "source": [
        "#filtering \n",
        "import re \n",
        " \n",
        "#url \n",
        "filtering_url = [re.sub(r'''(?i)\\b((?:https?://|www\\d{0,3}[.]|[a-z0-9.\\-]+[.][a-z]{2,4}/)(?:[^\\s()<>]+|\\(([^\\s()<>]+|(\\([^\\s()<>]+\\)))*\\))+(?:\\(([^\\s()<>]+|(\\([^\\s()<>]+\\)))*\\)|[^\\s`!()\\[\\]{};:'\".,<>?«»“”‘’]))''', \" \", tweet) for tweet in data_casefolding] \n",
        "#cont\n",
        "filtering_cont = [re.sub(r'\\(cont\\)',\" \", tweet)for tweet in filtering_url] \n",
        "#punctuatuion \n",
        "filtering_punctuation = [re.sub('[!\"”#$%&’()*+,-./:;<=>?@[\\]^_`{|}~]', ' ', tweet) for tweet in filtering_cont]  \n",
        "#hapus simbol'[!#?,.:\";@()-_/\\']' \n",
        "#  hapus #tagger \n",
        "filtering_tagger = [re.sub(r'#([^\\s]+)', '', tweet) for tweet in filtering_punctuation] \n",
        "#numeric \n",
        "filtering_numeric = [re.sub(r'\\d+', ' ', tweet) for tweet in filtering_tagger] \n",
        "data_filtering = pd.Series(filtering_numeric) \n",
        "print (data_filtering[:4]) \n",
        "#print (data_filtering) #jika ingin mencetak semua data_filtering"
      ]
    },
    {
      "cell_type": "code",
      "execution_count": null,
      "metadata": {
        "colab": {
          "base_uri": "https://localhost:8080/"
        },
        "id": "AVpj23vxsAy9",
        "outputId": "5ca2cf22-3b36-475c-9e8b-7a82b64c88a3"
      },
      "outputs": [
        {
          "name": "stdout",
          "output_type": "stream",
          "text": [
            "[nltk_data] Downloading package punkt to /root/nltk_data...\n",
            "[nltk_data]   Unzipping tokenizers/punkt.zip.\n",
            "[['fakta', 'tentang', 'gagal', 'jantung', 'mulai', 'dari', 'tips', 'menghindari', 'jenisnya', 'kenapa', 'bisa', 'dialami', 'orang', 'muda', 'hingga', 'ritual', 'pengorbanan', 'manusia', 'kuno'], ['kemenhub', 'telah', 'memberlakukan', 'aturan', 'terbaru', 'dalam', 'perjalanan', 'udara', 'domestik'], ['berikut', 'daftar', 'ptn', 'maupun', 'pts', 'yang', 'masuk', 'pemeringkatan', 'qs', 'asia', 'university', 'rankings'], ['rektor', 'jamal', 'sangat', 'menyesalkan', 'terjadinya', 'peristiwa', 'meninggalnya', 'gilang', 'saat', 'menwa', 'uns', 'kejadian', 'itu', 'tidak', 'diharapkan', 'oleh', 'semua', 'kalangan'], ['aksi', 'november', 'diikuti', 'lebih', 'an', 'buruh', 'dari', 'pabrik', 'di', 'provinsi', 'lebih', 'kabupaten', 'kota', 'kata', 'said'], ['pembukaan', 'musabaqah', 'tilawatil', \"qur'an\", 'mtq', 'jawa', 'timur', 'ke', 'xxix', 'digelar', 'di', 'depan', 'kantor', 'bakorwil', 'pamekasan', 'rabu', 'malam'], ['perkara', 'menyangkut', 'dugaan', 'penggelapan', 'pajero', 'ini', 'awalnya', 'dimasukkan', 'dalam', 'gugatan', 'perdata'], ['dala', 'praktiknya', 'life', 'jacket', 'tidak', 'pernah', 'dipakaikan', 'kepada', 'penumpang', 'maupun', 'awak', 'kapal', 'kata', 'kepala', 'dinas', 'perhubungan', 'provinsi', 'jawa', 'timur', 'nyono'], ['selain', 'tidak', 'mengonsumsi', 'bahan', 'makanan', 'hewani', 'sebagian', 'vegetarian', 'juga', 'memilih', 'untuk', 'tidak', 'makan', 'bawang', 'mengapa', 'begitu'], ['penelitian', 'mengungkapkan', 'bahwa', 'bergerak', 'setiap', 'lima', 'menit', 'sekali', 'setiap', 'jamnya', 'dapat', 'mencegah', 'dampak', 'negatif', 'kurang', 'aktif', 'bergerak'], ['awalnya', 'warga', 'curiga', 'dengan', 'mobil', 'yang', 'sudah', 'terparkir', 'lama', 'di', 'pinggir', 'jalan', 'setelah', 'dicek', 'ternyata', 'pengemudi', 'sudah', 'meninggal'], ['facebook', 'dianggap', 'masih', 'akan', 'menjadi', 'perusahaan', 'jejaring', 'sosial', 'dengan', 'masalah', 'yang', 'sama', 'bila', 'tidak', 'ada', 'perombakan', 'di', 'level', 'pimpinan'], ['walaupun', 'belum', 'menggunakan', 'aplikasi', 'pedulilindungi', 'dan', 'tak', 'ada', 'pemeriksaan', 'kartu', 'vaksin', 'wisatawan', 'diimbau', 'patuh', 'prokes'], ['update', 'harga', 'bahan', 'bakar', 'minyak', 'per', 'november', 'shell', 'mengalami', 'kenaikan', 'dan', 'pertamina', 'masih', 'tetap'], ['hasil', 'investigasi', 'pentagon', 'menyatakan', 'serangan', 'drone', 'as', 'yang', 'salah', 'sasaran', 'menewaskan', 'warga', 'sipil', 'afghanistan', 'tidak', 'melanggar', 'hukum'], ['jangan', 'sembarangan', 'menyesap', 'kopi', 'ada', 'baiknya', 'pilih', 'jenis', 'kopi', 'yang', 'paling', 'pas', 'sesuai', 'kondisi', 'tubuh', 'agar', 'kafein', 'tak', 'mencederai', 'lambung', 'juga', 'saraf'], ['wendi', 'cagur', 'sempat', 'diusir', 'oleh', 'anaknya', 'karena', 'dekat', 'dengan', 'kiky', 'saputri', 'semua', 'berawal', 'dari', 'video', 'joget', 'bareng', 'wendi', 'dan', 'kiky', 'saputri'], ['indeks', 'harga', 'saham', 'gabungan', 'ihsg', 'bergerak', 'pada', 'zona', 'hijau', 'di', 'awal', 'perdagangan', 'di', 'bursa', 'efek', 'indonesia', 'bei', 'kamis'], ['untuk', 'dki', 'akan', 'dipusatkan', 'di', 'balai', 'kota', 'pemda', 'dki', 'dengan', 'estimasi', 'jumlah', 'massa', 'buruh', 'karena', 'harus', 'mengikuti', 'protokol', 'kesehatan'], ['video', 'tersebut', 'memperlihatkan', 'nikita', 'dan', 'cinta', 'seakan', 'tengah', 'beradu', 'pendapat', 'soal', 'cara', 'berpakaian', 'dan', 'beretika'], ['gal', 'gadot', 'sedang', 'dalam', 'diskusi', 'akhir', 'untuk', 'didapuk', 'memerankan', 'karakter', 'ratu', 'jahat', 'di', 'live', 'action', 'snow', 'white'], ['“', 'greenwashing', 'digunakan', 'untuk', 'menyebut', 'perusahaan', 'yang', 'mengeklaim', 'melindungi', 'lingkungan', 'tetapi', 'di', 'waktu', 'yang', 'bersamaan', 'terus', 'merusaknya'], ['heboh', 'salam', 'dari', 'binjai', 'sejumlah', 'anak', 'anak', 'di', 'daerah', 'ikut', 'merusak', 'pohon', 'pisang', 'polisi', 'oun', 'meminta', 'orangtua', 'ikut', 'mengawasi', 'kegiatan', 'anak', 'anak'], ['“', 'saat', 'diblokir', 'pihak', 'bank', 'sama', 'sekali', 'tidak', 'memberikan', 'penjelasan', 'alasan', 'rekening', 'klien', 'kami', 'diblokir', 'jelas', 'kuasa', 'hukum', 'dewi', 'ratna', 'indah'], ['pelaku', 'pencabulan', 'terhadap', 'anak', 'tahun', 'di', 'pontianak', 'rata', 'rata', 'berusia', 'tahun', 'namun', 'ada', 'yang', 'berusia', 'tahun', 'dan', 'tahun'], ['warna', 'cat', 'dinding', 'di', 'rumah', 'ternyata', 'mampu', 'memengaruhi', 'suasana', 'hati', 'emosi', 'dan', 'perilaku', 'kita'], ['walaupun', 'belum', 'menggunakan', 'aplikasi', 'pedulilindungi', 'dan', 'tak', 'ada', 'pemeriksaan', 'kartu', 'vaksin', 'wisatawan', 'diimbau', 'patuh', 'prokes'], ['resep', 'bakpao', 'ubi', 'ungu', 'empuk', 'lembut', 'dan', 'mengembang', 'ini', 'bisa', 'kamu', 'buat', 'dengan', 'mudah', 'di', 'rumah', 'pakai', 'isian', 'kacang', 'mete', 'dan', 'biji', 'wijen'], ['door', 'visor', 'atau', 'yang', 'kerap', 'disebut', 'talang', 'air', 'merupakan', 'aksesori', 'yang', 'digunakan', 'oleh', 'pemilik', 'mobil'], ['facebook', 'dianggap', 'masih', 'akan', 'menjadi', 'perusahaan', 'jejaring', 'sosial', 'dengan', 'masalah', 'yang', 'sama', 'bila', 'tidak', 'ada', 'perombakan', 'di', 'level', 'pimpinan'], ['skuad', 'indonesia', 'pada', 'piala', 'thomas', 'merupakan', 'generasi', 'emas', 'yang', 'sukses', 'mewujudkan', 'mimpi', 'untuk', 'membawa', 'pulang', 'trofi', 'tersebut'], ['laga', 'persela', 'vs', 'persela', 'bandung', 'dijadwalkan', 'berlangsung', 'di', 'stadion', 'maguwoharjo', 'sleman', 'yogyakarta', 'kamis', 'pukul', 'wib'], ['polda', 'metro', 'jaya', 'telah', 'menetapkan', 'rachel', 'vennya', 'dan', 'tiga', 'orang', 'lain', 'yang', 'ikut', 'terlibat', 'dalam', 'kasus', 'tersebut', 'sebagai', 'tersangka'], ['dinas', 'kesehatan', 'provinsi', 'dki', 'jakarta', 'akan', 'memberikan', 'edukasi', 'kepada', 'orangtua', 'tentang', 'pentingnya', 'vaksinasi', 'covid', 'untuk', 'anak', 'usia', 'tahun'], ['sby', 'mengidap', 'kanker', 'prostat', 'dan', 'menjalani', 'perawatan', 'di', 'as', 'bagaimana', 'aturan', 'perawatan', 'mantan', 'presiden'], ['presiden', 'jokowi', 'masuk', 'dalam', 'jajaran', 'tokoh', 'muslim', 'paling', 'berpengaruh', 'tahun', 'di', 'seluruh', 'dunia', 'selain', 'jokowi', 'ini', 'tokoh', 'muslim', 'paling', 'berpengaruh', 'dari', 'indonesia', 'tren', 'jernihkanharapan'], ['pemberian', 'vaksin', 'sinovac', 'usia', 'tahun', 'telah', 'diizinkan', 'di', 'indonesia', 'berikut', 'fakta', 'fakta', 'mengenai', 'penggunaan', 'vaksin', 'ini', 'untuk', 'anak', 'anak'], ['sebuah', 'drama', 'remaja', 'yang', 'diadaptasi', 'dari', 'novel', 'laris', 'dengan', 'judul', 'yang', 'sama'], ['staf', 'ahli', 'menteri', 'keuangan', 'bidang', 'kepatuhan', 'pajak', 'yon', 'arsal', 'mengatakan', 'pihaknya', 'masih', 'mendiskusikan', 'instrumen', 'yang', 'tepat', 'dengan', 'stakeholder', 'terkait'], ['siapkan', 'diri', 'untuk', 'berani', 'menghadapi', 'tantangan', 'dan', 'menang', 'dalam', 'segala', 'situasi', 'kepemimpinan'], ['merawat', 'lansia', 'itu', 'pekerjaan', 'terberat', 'diantara', 'yang', 'berat', 'maka', 'butuh', 'support', 'publik', 'agar', 'tidak', 'ada', 'manusia', 'yang', 'tinggal', 'di', 'sampah', 'di', 'kolong', 'jembatan', 'dan', 'lain', 'lain', 'kata', 'arif', 'camra', 'regional', 'jernihkanharapan'], ['ada', 'satu', 'faktor', 'lagi', 'yang', 'bisa', 'menjadi', 'penyebab', 'kenapa', 'seseorang', 'sulit', 'tertidur', 'yaitu', 'desain', 'kamar', 'tidur'], ['sebelum', 'menyewakan', 'rumah', 'anda', 'kepada', 'orang', 'lain', 'anda', 'wajib', 'mengasuransikan', 'properti', 'melakukan', 'renovasi', 'serta', 'menentukan', 'harga', 'sewa', 'rumah', 'dengan', 'tepat'], ['“', 'akhir', 'dari', 'era', 'batu', 'bara', 'sudah', 'di', 'depan', 'mata', 'kata', 'menteri', 'bisnis', 'dan', 'energi', 'inggris', 'kwasi', 'kwarteng'], ['tudingan', 'ini', 'bermula', 'dari', 'beredarnya', 'potongan', 'video', 'deddy', 'corbuzier', 'di', 'media', 'sosial', 'yang', 'mengatakan', 'bahwa', 'tamu', 'siniar', 'atau', 'podcast', 'nya', 'meminta', 'bayaran'], ['penetapan', 'tersangka', 'ini', 'setelah', 'penyidik', 'direktorat', 'reserse', 'kriminal', 'umum', 'ditreskrimum', 'polda', 'metro', 'jaya', 'menghelat', 'gelar', 'perkara'], ['setidaknya', 'ada', 'jenis', 'penyakit', 'jantung', 'yang', 'bisa', 'dialami', 'orang', 'muda', 'di', 'bawah', 'usia', 'tahun', 'mulai', 'gagal', 'jantung', 'serangan', 'jantung', 'kardiomiopati'], ['cukup', 'fokus', 'di', 'salah', 'satu', 'kabupaten', 'yang', 'angka', 'kematian', 'ibu', 'dan', 'bayinya', 'tinggi', 'kerjakan', 'sampai', 'tuntas', 'baru', 'beralih', 'ke', 'program', 'dan', 'kabupaten', 'lain'], ['ridwan', 'kamil', 'ingin', 'menyampaikan', 'kepada', 'dunia', 'bahwa', 'sungai', 'citarum', 'tak', 'seburuk', 'dahulu'], ['seorang', 'tahanan', 'kasus', 'narkoba', 'kabur', 'dari', 'polresta', 'pekanbaru', 'setelah', 'melompat', 'dari', 'lantai', 'dua', 'ia', 'kabur', 'dibantu', 'istri', 'adik', 'keponakan', 'dan', 'temannya'], ['meskipun', 'bukan', 'tanaman', 'yang', 'rentan', 'terhadap', 'serangan', 'hama', 'serangga', 'namun', 'tidak', 'menutup', 'kemungkinan', 'infestasi', 'hama', 'terjadi', 'pada', 'tanaman', 'pakis', 'boston'], ['agar', 'kadar', 'kolesterol', 'jahat', 'dalam', 'tubuh', 'turun', 'kita', 'bisa', 'mencoba', 'melakukan', 'empat', 'olahraga', 'berikut', 'jogging', 'berenang', 'bersepeda', 'dan', 'yoga'], ['anak', 'yang', 'makan', 'lebih', 'banyak', 'buah', 'dan', 'sayuran', 'memiliki', 'kesehatan', 'mental', 'yang', 'lebih', 'baik'], ['ketika', 'diterapkan', 'secara', 'penuh', 'tidak', 'akan', 'ada', 'lagi', 'gardu', 'tol', 'dan', 'pengguna', 'bakal', 'terhubung', 'dengan', 'satelit', 'untuk', 'proses', 'bayar'], ['korban', 'mendapatkan', 'perawatan', 'di', 'ruang', 'rawat', 'inap', 'setelah', 'sebelumnya', 'ditangani', 'di', 'instalasi', 'gawat', 'darurat', 'igd', 'rs', 'mmc', 'kuningan'], ['pemprov', 'dki', 'awalnya', 'mengumumkan', 'akan', 'menerapkani', 'tilang', 'bagi', 'kendaraan', 'bermotor', 'yang', 'tidak', 'lulus', 'uji', 'emisi', 'mulai', 'november', 'namun', 'ditunda'], ['kemenkeu', 'optimistis', 'target', 'penerimaan', 'pajak', 'tahun', 'ini', 'mendekati', 'target', 'rp', 'triliun', 'dalam', 'apbn'], ['saya', 'sangat', 'berharap', 'yang', 'mulia', 'dapat', 'menerima', 'undangan', 'saya', 'ini'], ['di', 'sisi', 'lain', 'gonta', 'ganti', 'aturan', 'dalam', 'waktu', 'singkat', 'juga', 'dapat', 'menimbulkan', 'kebingungan', 'masyarakat', 'tren', 'jernihkanharapan'], ['lebih', 'dari', 'seperempat', 'staf', 'di', 'los', 'angeles', 'county', 'sheriff', 'departemen', 'sheriff', 'terbesar', 'di', 'as', 'terancam', 'dipecat', 'karena', 'menolak', 'divaksin'], ['serius', 'menjalani', 'hubungan', 'dengan', 'jessica', 'iskandar', 'vincent', 'pernah', 'tegaskan', 'soal', 'keuangan', 'pada', 'jessica'], ['arab', 'saudi', 'menyetujui', 'penggunaan', 'vaksin', 'untuk', 'anak', 'tahun', 'vaksinasi', 'covid', 'untuk', 'anak', 'di', 'as', 'dimulai'], ['rumput', 'spesial', 'ini', 'membutuhkan', 'perawatan', 'ekstra', 'jakpro', 'enggan', 'menggunakan', 'pestisida', 'dan', 'memilih', 'untuk', 'menggunakan', 'cara', 'alami', 'yakni', 'dengan', 'memanfaatkan', 'burung', 'kaki', 'bayam', 'megapolitan'], ['aktor', 'daniel', 'dae', 'kim', 'didapuk', 'memerankan', 'tokoh', 'raja', 'api', 'ozai', 'di', 'avatar', 'the', 'last', 'airbender', 'serial', 'live', 'action', 'yang', 'diadaptasi', 'netflix'], ['kerangka', 'big', 'john', 'berusia', 'juta', 'tahun', 'dengan', 'panjang', 'delapan', 'meter', 'pembelinya', 'adalah', 'seorang', 'kolektor', 'di', 'amerika', 'serikat', 'as'], ['china', 'tak', 'akan', 'menyerang', 'taiwan', 'dalam', 'waktu', 'dekat', 'meski', 'militernya', 'mengembangkan', 'kemampuan', 'yang', 'memungkinkan', 'merebut', 'pulau', 'tersebut'], ['babak', 'kedua', 'alias', 'besar', 'hylo', 'open', 'akan', 'digulirkan', 'pada', 'hari', 'ini', 'kamis', 'di', 'saarlandhalle', 'saarbruecken', 'jerman'], ['pemerintah', 'kota', 'medan', 'yakin', 'bisa', 'jadi', 'destinasi', 'wisata', 'garstronomi', 'atau', 'wisata', 'kuliner'], ['ras', 'kucing', 'yang', 'tidak', 'berbulu', 'adalah', 'hasil', 'dari', 'mutasi', 'genetik', 'yang', 'telah', 'menghilangkan', 'bulu', 'pelindung', 'mereka'], ['gejala', 'bronkitis', 'kronis', 'penting', 'dikenali', 'untuk', 'mendukung', 'upaya', 'diag'], ['alih', 'alih', 'memandang', 'buruk', 'pasangannya', 'karena', 'melakukan', 'tindakan', 'kekerasan', 'wanita', 'justru', 'mencoba', 'mengubah', 'dirinya', 'agar', 'mereka', 'bahagia'], ['banyak', 'perubahan', 'yang', 'akan', 'dialami', 'seorang', 'perempuan', 'setelah', 'menjadi', 'ibu', 'termasuk', 'di', 'antaranya', 'adalah', 'mengubah', 'tujuan', 'hidup'], ['bocah', 'tahun', 'di', 'brebes', 'jawa', 'tengah', 'hampir', 'sebulan', 'terbaring', 'lemas', 'setelah', 'menelan', 'uang', 'koin', 'rp', 'kedua', 'orangtuanya', 'tak', 'ada', 'biaya', 'untuk', 'operasi'], ['menjelang', 'akhir', 'tahun', 'curah', 'hujan', 'yang', 'tinggi', 'mulai', 'mengguyur', 'beberapa', 'kawasan', 'di', 'wilayah', 'indonesia'], ['direktorat', 'jenderal', 'pajak', 'djp', 'kementerian', 'keuangan', 'akan', 'mengejar', 'para', 'pengemplang', 'pajak', 'hingga', 'ke', 'luar', 'negeri'], ['penunjukan', 'andika', 'menjadi', 'calon', 'tunggal', 'panglima', 'tni', 'mendapat', 'dukungan', 'sejumlah', 'pihak', 'di', 'antaranya', 'menhan', 'prabowo', 'subianto'], ['banyak', 'yang', 'memberikan', 'sindiran', 'atas', 'komentar', 'rossa', 'karena', 'dianggap', 'mendukung', 'rachel', 'yang', 'berani', 'meminta', 'maaf', 'hype'], ['ihsg', 'diproyeksikan', 'menguat', 'pada', 'kamis', 'ihsg', 'rabu', 'ditutup', 'positif', 'di', 'level', 'atau', 'naik', 'poin', 'persen'], ['melihat', 'kebenaran', 'dibalik', 'cat', 'low', 'voc', 'dan', 'zero', 'voc', 'yang', 'ramah', 'lingkungan'], ['perpanjangan', 'waktu', 'operasional', 'tersebut', 'seiring', 'dengan', 'pelonggaran', 'kebijakan', 'pemerintah', 'terkait', 'penerapan', 'pembatasan', 'kegiatan', 'masyarakat', 'ppkm', 'di', 'dki'], ['banyak', 'faktor', 'yang', 'mempengaruhi', 'kondisi', 'penyakit', 'satu', 'ini', 'dan', 'stres', 'masih', 'menjadi', 'salah', 'satu', 'pemicu', 'terbesar', 'eksim', 'lifestyle'], ['pt', 'pos', 'indonesia', 'persero', 'sedang', 'membuka', 'lowongan', 'kerja', 'bagi', 'lulusan', 's'], ['dokter', 'mengungkapkan', 'bahwa', 'pasien', 'autoimun', 'kulit', 'bisa', 'divaksinasi', 'covid', 'asalkan', 'memenuhi', 'syarat', 'syarat', 'yang', 'telah', 'ditentukan'], ['target', 'tersebut', 'dipatok', 'dinkes', 'kota', 'depok', 'dalam', 'pelaksanaan', 'kegiatan', 'bulan', 'imunisasi', 'anak', 'sekolah', 'bias', 'november', 'hingga', 'desember'], ['polisi', 'tidak', 'bisa', 'langsung', 'menerapkan', 'sanksi', 'tilang', 'karena', 'jumlah', 'kendaraan', 'yang', 'sudah', 'lolos', 'uji', 'emisi', 'masih', 'sangat', 'sedikit'], ['libur', 'nataru', 'selalu', 'identik', 'dengan', 'mobilitas', 'masyarakat', 'namun', 'jangan', 'sampai', 'menimbulkan', 'lonjakan', 'kasus', 'covid'], ['sulhan', 'merasa', 'geram', 'karena', 'setelah', 'pilkades', 'muncul', 'kabar', 'tak', 'sedap', 'yang', 'diduga', 'dari', 'kubu', 'lawan', 'berisi', 'fitnah', 'memojokkan', 'dirinya'], ['pada', 'kamis', 'pagi', 'terjadi', 'dua', 'kali', 'gempa', 'berskala', 'kecil', 'di', 'wilayah', 'salatiga', 'dan', 'kabupaten', 'semarang', 'kedalaman', 'gempa', 'kilometer'], ['ssaat', 'memilih', 'lantai', 'dapur', 'harus', 'diperhatikan', 'perawatan', 'dan', 'ketahanannya', 'berikut', 'beberapa', 'pilihannya'], ['produksi', 'ipad', 'terpantau', 'merosot', 'hingga', 'persen', 'sepanjang', 'september', 'dan', 'oktober', 'pemesan', 'ipad', 'juga', 'akan', 'menerima', 'unitnya', 'terlambat'], ['hari', 'ini', 'tahun', 'lalu', 'the', 'grand', 'oldman', 'haji', 'agus', 'salim', 'tutup', 'usia', 'pada', 'november'], ['ivan', 'gunawan', 'tampak', 'terkejut', 'dan', 'gembira', 'ketika', 'celana', 'jeans', 'ukuran', 'kini', 'bisa', 'muat', 'di', 'kakinya'], ['komandan', 'senior', 'taliban', 'hamdullah', 'mokhlis', 'tewas', 'ketika', 'bertempur', 'melawan', 'isis', 'k', 'di', 'sebuah', 'rumah', 'sakit', 'di', 'afghanistan'], ['menko', 'marves', 'luhut', 'binsar', 'pandjaitan', 'mengklaim', 'bahwa', 'dirinya', 'tidak', 'pernah', 'sedikit', 'pun', 'mengambil', 'keuntungan', 'pribadi', 'dari', 'bisnis', 'yang', 'dijalankan', 'pt', 'genomik', 'solidaritas', 'indonesia', 'gsi', 'money', 'jernihkanharapan'], ['ada', 'beberapa', 'aturan', 'perjalanan', 'yang', 'diubah', 'dalam', 'jangka', 'waktu', 'relatif', 'singkat', 'itu', 'dinilai', 'membingungkan'], ['kremlin', 'membantah', 'rusia', 'tidak', 'serius', 'menangani', 'perubahan', 'iklim', 'karena', 'presiden', 'vladimir', 'putin', 'tidak', 'hadir', 'di', 'cop', 'glasgow'], ['rossa', 'raffi', 'ahmad', 'tyna', 'kanna', 'mirdad', 'niko', 'al', 'hakim', 'dan', 'sederet', 'selebgram', 'memberikan', 'dukungan', 'pada', 'rachel', 'vennya'], ['bank', 'indonesia', 'bi', 'akan', 'mulai', 'mengimplementasikan', 'bi', 'fast', 'payment', 'tahap', 'pertama', 'pada', 'pekan', 'kedua', 'desember', 'tahun', 'ini'], ['liverpool', 'sudah', 'dipastikan', 'lolos', 'ke', 'babak', 'besar', 'liga', 'champions', 'sebagai', 'juara', 'grup', 'b', 'berikut', 'klasemen', 'lengkap', 'liga', 'champions'], ['robert', 'lewandowski', 'dinilai', 'pantas', 'menyabet', 'penghargaan', 'ballon', \"d'or\"], ['cara', 'membuat', 'nasi', 'tim', 'udang', 'resep', 'bisa', 'untuk', 'jualan']]\n"
          ]
        }
      ],
      "source": [
        "#tokenization\n",
        "import nltk\n",
        "nltk.download('punkt')\n",
        "from nltk.tokenize import word_tokenize\n",
        "\n",
        "data_tokens = [word_tokenize(line) for line in data_filtering]\n",
        "print(data_tokens)"
      ]
    },
    {
      "cell_type": "markdown",
      "metadata": {
        "id": "tbBmY1UvsSya"
      },
      "source": [
        "#stopword"
      ]
    },
    {
      "cell_type": "code",
      "execution_count": null,
      "metadata": {
        "colab": {
          "base_uri": "https://localhost:8080/"
        },
        "id": "WEI3HGk7sL9c",
        "outputId": "ddc95e87-8cca-4c02-c512-7aef1822d73d"
      },
      "outputs": [
        {
          "name": "stdout",
          "output_type": "stream",
          "text": [
            "Collecting sastrawi\n",
            "  Downloading Sastrawi-1.0.1-py2.py3-none-any.whl (209 kB)\n",
            "\u001b[K     |████████████████████████████████| 209 kB 32.3 MB/s \n",
            "\u001b[?25hInstalling collected packages: sastrawi\n",
            "Successfully installed sastrawi-1.0.1\n"
          ]
        }
      ],
      "source": [
        "!pip install sastrawi"
      ]
    },
    {
      "cell_type": "code",
      "execution_count": null,
      "metadata": {
        "id": "k0ult4_NsXFd"
      },
      "outputs": [],
      "source": [
        "from Sastrawi.StopWordRemover.StopWordRemoverFactory import StopWordRemoverFactory\n",
        "from Sastrawi.Stemmer.StemmerFactory import StemmerFactory"
      ]
    },
    {
      "cell_type": "code",
      "execution_count": null,
      "metadata": {
        "colab": {
          "base_uri": "https://localhost:8080/"
        },
        "id": "Og3SHd1dH44e",
        "outputId": "9226e8f2-489a-47e1-e16b-aaccc8c6295d"
      },
      "outputs": [
        {
          "name": "stdout",
          "output_type": "stream",
          "text": [
            "[['fakta', 'gagal', 'jantung', 'mulai', 'tips', 'menghindari', 'jenisnya', 'dialami', 'orang', 'muda', 'hingga', 'ritual', 'pengorbanan', 'manusia', 'kuno'], ['kemenhub', 'memberlakukan', 'aturan', 'terbaru', 'perjalanan', 'udara', 'domestik'], ['berikut', 'daftar', 'maupun', 'masuk', 'pemeringkatan', 'asia', 'university', 'rankings'], ['rektor', 'jamal', 'sangat', 'menyesalkan', 'terjadinya', 'peristiwa', 'meninggalnya', 'gilang', 'menwa', 'kejadian', 'diharapkan', 'semua', 'kalangan'], ['aksi', 'november', 'diikuti', 'lebih', 'buruh', 'pabrik', 'provinsi', 'lebih', 'kabupaten', 'kota', 'kata', 'said'], ['pembukaan', 'musabaqah', 'tilawatil', 'quran', 'jawa', 'timur', 'xxix', 'digelar', 'depan', 'kantor', 'bakorwil', 'pamekasan', 'rabu', 'malam'], ['perkara', 'menyangkut', 'dugaan', 'penggelapan', 'pajero', 'awalnya', 'dimasukkan', 'gugatan', 'perdata'], ['dala', 'praktiknya', 'life', 'jacket', 'pernah', 'dipakaikan', 'penumpang', 'maupun', 'awak', 'kapal', 'kata', 'kepala', 'dinas', 'perhubungan', 'provinsi', 'jawa', 'timur', 'nyono'], ['mengonsumsi', 'bahan', 'makanan', 'hewani', 'sebagian', 'vegetarian', 'memilih', 'makan', 'bawang'], ['penelitian', 'mengungkapkan', 'bergerak', 'lima', 'menit', 'sekali', 'jamnya', 'mencegah', 'dampak', 'negatif', 'kurang', 'aktif', 'bergerak'], ['awalnya', 'warga', 'curiga', 'mobil', 'terparkir', 'lama', 'pinggir', 'jalan', 'dicek', 'ternyata', 'pengemudi', 'meninggal'], ['facebook', 'dianggap', 'menjadi', 'perusahaan', 'jejaring', 'sosial', 'masalah', 'sama', 'bila', 'perombakan', 'level', 'pimpinan'], ['walaupun', 'menggunakan', 'aplikasi', 'pedulilindungi', 'pemeriksaan', 'kartu', 'vaksin', 'wisatawan', 'diimbau', 'patuh', 'prokes'], ['update', 'harga', 'bahan', 'bakar', 'minyak', 'november', 'shell', 'mengalami', 'kenaikan', 'pertamina', 'tetap'], ['hasil', 'investigasi', 'pentagon', 'menyatakan', 'serangan', 'drone', 'salah', 'sasaran', 'menewaskan', 'warga', 'sipil', 'afghanistan', 'melanggar', 'hukum'], ['jangan', 'sembarangan', 'menyesap', 'kopi', 'baiknya', 'pilih', 'jenis', 'kopi', 'paling', 'sesuai', 'kondisi', 'tubuh', 'kafein', 'mencederai', 'lambung', 'saraf'], ['wendi', 'cagur', 'sempat', 'diusir', 'anaknya', 'dekat', 'kiky', 'saputri', 'semua', 'berawal', 'video', 'joget', 'bareng', 'wendi', 'kiky', 'saputri'], ['indeks', 'harga', 'saham', 'gabungan', 'ihsg', 'bergerak', 'zona', 'hijau', 'awal', 'perdagangan', 'bursa', 'efek', 'indonesia', 'kamis'], ['dipusatkan', 'balai', 'kota', 'pemda', 'estimasi', 'jumlah', 'massa', 'buruh', 'mengikuti', 'protokol', 'kesehatan'], ['video', 'tersebut', 'memperlihatkan', 'nikita', 'cinta', 'seakan', 'tengah', 'beradu', 'pendapat', 'soal', 'cara', 'berpakaian', 'beretika'], ['gadot', 'sedang', 'diskusi', 'akhir', 'didapuk', 'memerankan', 'karakter', 'ratu', 'jahat', 'live', 'action', 'snow', 'white'], ['greenwashing', 'digunakan', 'menyebut', 'perusahaan', 'mengeklaim', 'melindungi', 'lingkungan', 'waktu', 'bersamaan', 'terus', 'merusaknya'], ['heboh', 'salam', 'binjai', 'sejumlah', 'anak', 'anak', 'daerah', 'ikut', 'merusak', 'pohon', 'pisang', 'polisi', 'meminta', 'orangtua', 'ikut', 'mengawasi', 'kegiatan', 'anak', 'anak'], ['diblokir', 'pihak', 'bank', 'sama', 'sekali', 'memberikan', 'penjelasan', 'alasan', 'rekening', 'klien', 'diblokir', 'jelas', 'kuasa', 'hukum', 'dewi', 'ratna', 'indah'], ['pelaku', 'pencabulan', 'anak', 'tahun', 'pontianak', 'rata', 'rata', 'berusia', 'tahun', 'berusia', 'tahun', 'tahun'], ['warna', 'dinding', 'rumah', 'ternyata', 'mampu', 'memengaruhi', 'suasana', 'hati', 'emosi', 'perilaku'], ['walaupun', 'menggunakan', 'aplikasi', 'pedulilindungi', 'pemeriksaan', 'kartu', 'vaksin', 'wisatawan', 'diimbau', 'patuh', 'prokes'], ['resep', 'bakpao', 'ungu', 'empuk', 'lembut', 'mengembang', 'kamu', 'buat', 'mudah', 'rumah', 'pakai', 'isian', 'kacang', 'mete', 'biji', 'wijen'], ['door', 'visor', 'kerap', 'disebut', 'talang', 'merupakan', 'aksesori', 'digunakan', 'pemilik', 'mobil'], ['facebook', 'dianggap', 'menjadi', 'perusahaan', 'jejaring', 'sosial', 'masalah', 'sama', 'bila', 'perombakan', 'level', 'pimpinan'], ['skuad', 'indonesia', 'piala', 'thomas', 'merupakan', 'generasi', 'emas', 'sukses', 'mewujudkan', 'mimpi', 'membawa', 'pulang', 'trofi', 'tersebut'], ['laga', 'persela', 'persela', 'bandung', 'dijadwalkan', 'berlangsung', 'stadion', 'maguwoharjo', 'sleman', 'yogyakarta', 'kamis', 'pukul'], ['polda', 'metro', 'jaya', 'menetapkan', 'rachel', 'vennya', 'tiga', 'orang', 'ikut', 'terlibat', 'kasus', 'tersebut', 'tersangka'], ['dinas', 'kesehatan', 'provinsi', 'jakarta', 'memberikan', 'edukasi', 'orangtua', 'pentingnya', 'vaksinasi', 'covid', 'anak', 'usia', 'tahun'], ['mengidap', 'kanker', 'prostat', 'menjalani', 'perawatan', 'bagaimana', 'aturan', 'perawatan', 'mantan', 'presiden'], ['presiden', 'jokowi', 'masuk', 'jajaran', 'tokoh', 'muslim', 'paling', 'berpengaruh', 'tahun', 'seluruh', 'dunia', 'jokowi', 'tokoh', 'muslim', 'paling', 'berpengaruh', 'indonesia', 'tren', 'jernihkanharapan'], ['pemberian', 'vaksin', 'sinovac', 'usia', 'tahun', 'diizinkan', 'indonesia', 'berikut', 'fakta', 'fakta', 'mengenai', 'penggunaan', 'vaksin', 'anak', 'anak'], ['sebuah', 'drama', 'remaja', 'diadaptasi', 'novel', 'laris', 'judul', 'sama'], ['staf', 'ahli', 'menteri', 'keuangan', 'bidang', 'kepatuhan', 'pajak', 'arsal', 'mengatakan', 'pihaknya', 'mendiskusikan', 'instrumen', 'tepat', 'stakeholder', 'terkait'], ['siapkan', 'diri', 'berani', 'menghadapi', 'tantangan', 'menang', 'segala', 'situasi', 'kepemimpinan'], ['merawat', 'lansia', 'pekerjaan', 'terberat', 'diantara', 'berat', 'butuh', 'support', 'publik', 'manusia', 'tinggal', 'sampah', 'kolong', 'jembatan', 'kata', 'arif', 'camra', 'regional', 'jernihkanharapan'], ['satu', 'faktor', 'menjadi', 'penyebab', 'seseorang', 'sulit', 'tertidur', 'desain', 'kamar', 'tidur'], ['menyewakan', 'rumah', 'orang', 'wajib', 'mengasuransikan', 'properti', 'melakukan', 'renovasi', 'menentukan', 'harga', 'sewa', 'rumah', 'tepat'], ['akhir', 'batu', 'bara', 'depan', 'mata', 'kata', 'menteri', 'bisnis', 'energi', 'inggris', 'kwasi', 'kwarteng'], ['tudingan', 'bermula', 'beredarnya', 'potongan', 'video', 'deddy', 'corbuzier', 'media', 'sosial', 'mengatakan', 'tamu', 'siniar', 'podcast', 'meminta', 'bayaran'], ['penetapan', 'tersangka', 'penyidik', 'direktorat', 'reserse', 'kriminal', 'umum', 'ditreskrimum', 'polda', 'metro', 'jaya', 'menghelat', 'gelar', 'perkara'], ['jenis', 'penyakit', 'jantung', 'dialami', 'orang', 'muda', 'bawah', 'usia', 'tahun', 'mulai', 'gagal', 'jantung', 'serangan', 'jantung', 'kardiomiopati'], ['cukup', 'fokus', 'salah', 'satu', 'kabupaten', 'angka', 'kematian', 'bayinya', 'tinggi', 'kerjakan', 'tuntas', 'baru', 'beralih', 'program', 'kabupaten'], ['ridwan', 'kamil', 'menyampaikan', 'dunia', 'sungai', 'citarum', 'seburuk'], ['seorang', 'tahanan', 'kasus', 'narkoba', 'kabur', 'polresta', 'pekanbaru', 'melompat', 'lantai', 'kabur', 'dibantu', 'istri', 'adik', 'keponakan', 'temannya'], ['meskipun', 'bukan', 'tanaman', 'rentan', 'serangan', 'hama', 'serangga', 'menutup', 'kemungkinan', 'infestasi', 'hama', 'terjadi', 'tanaman', 'pakis', 'boston'], ['kadar', 'kolesterol', 'jahat', 'tubuh', 'turun', 'mencoba', 'melakukan', 'empat', 'olahraga', 'berikut', 'jogging', 'berenang', 'bersepeda', 'yoga'], ['anak', 'makan', 'lebih', 'banyak', 'buah', 'sayuran', 'memiliki', 'kesehatan', 'mental', 'lebih', 'baik'], ['diterapkan', 'penuh', 'gardu', 'pengguna', 'bakal', 'terhubung', 'satelit', 'proses', 'bayar'], ['korban', 'mendapatkan', 'perawatan', 'ruang', 'rawat', 'inap', 'sebelumnya', 'ditangani', 'instalasi', 'gawat', 'darurat', 'kuningan'], ['pemprov', 'awalnya', 'mengumumkan', 'menerapkani', 'tilang', 'kendaraan', 'bermotor', 'lulus', 'emisi', 'mulai', 'november', 'ditunda'], ['kemenkeu', 'optimistis', 'target', 'penerimaan', 'pajak', 'tahun', 'mendekati', 'target', 'triliun', 'apbn'], ['sangat', 'berharap', 'mulia', 'menerima', 'undangan'], ['sisi', 'gonta', 'ganti', 'aturan', 'waktu', 'singkat', 'menimbulkan', 'kebingungan', 'masyarakat', 'tren', 'jernihkanharapan'], ['lebih', 'seperempat', 'staf', 'angeles', 'county', 'sheriff', 'departemen', 'sheriff', 'terbesar', 'terancam', 'dipecat', 'menolak', 'divaksin'], ['serius', 'menjalani', 'hubungan', 'jessica', 'iskandar', 'vincent', 'pernah', 'tegaskan', 'soal', 'keuangan', 'jessica'], ['arab', 'saudi', 'menyetujui', 'penggunaan', 'vaksin', 'anak', 'tahun', 'vaksinasi', 'covid', 'anak', 'dimulai'], ['rumput', 'spesial', 'membutuhkan', 'perawatan', 'ekstra', 'jakpro', 'enggan', 'menggunakan', 'pestisida', 'memilih', 'menggunakan', 'cara', 'alami', 'memanfaatkan', 'burung', 'kaki', 'bayam', 'megapolitan'], ['aktor', 'daniel', 'didapuk', 'memerankan', 'tokoh', 'raja', 'ozai', 'avatar', 'last', 'airbender', 'serial', 'live', 'action', 'diadaptasi', 'netflix'], ['kerangka', 'john', 'berusia', 'juta', 'tahun', 'panjang', 'delapan', 'meter', 'pembelinya', 'seorang', 'kolektor', 'amerika', 'serikat'], ['china', 'menyerang', 'taiwan', 'waktu', 'dekat', 'meski', 'militernya', 'mengembangkan', 'kemampuan', 'memungkinkan', 'merebut', 'pulau', 'tersebut'], ['babak', 'kedua', 'alias', 'besar', 'hylo', 'open', 'digulirkan', 'hari', 'kamis', 'saarlandhalle', 'saarbruecken', 'jerman'], ['pemerintah', 'kota', 'medan', 'yakin', 'jadi', 'destinasi', 'wisata', 'garstronomi', 'wisata', 'kuliner'], ['kucing', 'berbulu', 'hasil', 'mutasi', 'genetik', 'menghilangkan', 'bulu', 'pelindung'], ['gejala', 'bronkitis', 'kronis', 'penting', 'dikenali', 'mendukung', 'upaya', 'diag'], ['alih', 'alih', 'memandang', 'buruk', 'pasangannya', 'melakukan', 'tindakan', 'kekerasan', 'wanita', 'justru', 'mencoba', 'mengubah', 'dirinya', 'bahagia'], ['banyak', 'perubahan', 'dialami', 'seorang', 'perempuan', 'menjadi', 'termasuk', 'antaranya', 'mengubah', 'tujuan', 'hidup'], ['bocah', 'tahun', 'brebes', 'jawa', 'tengah', 'hampir', 'sebulan', 'terbaring', 'lemas', 'menelan', 'uang', 'koin', 'kedua', 'orangtuanya', 'biaya', 'operasi'], ['menjelang', 'akhir', 'tahun', 'curah', 'hujan', 'tinggi', 'mulai', 'mengguyur', 'beberapa', 'kawasan', 'wilayah', 'indonesia'], ['direktorat', 'jenderal', 'pajak', 'kementerian', 'keuangan', 'mengejar', 'pengemplang', 'pajak', 'hingga', 'luar', 'negeri'], ['penunjukan', 'andika', 'menjadi', 'calon', 'tunggal', 'panglima', 'mendapat', 'dukungan', 'sejumlah', 'pihak', 'antaranya', 'menhan', 'prabowo', 'subianto'], ['banyak', 'memberikan', 'sindiran', 'atas', 'komentar', 'rossa', 'dianggap', 'mendukung', 'rachel', 'berani', 'meminta', 'maaf', 'hype'], ['ihsg', 'diproyeksikan', 'menguat', 'kamis', 'ihsg', 'rabu', 'ditutup', 'positif', 'level', 'naik', 'poin', 'persen'], ['melihat', 'kebenaran', 'dibalik', 'zero', 'ramah', 'lingkungan'], ['perpanjangan', 'waktu', 'operasional', 'tersebut', 'seiring', 'pelonggaran', 'kebijakan', 'pemerintah', 'terkait', 'penerapan', 'pembatasan', 'kegiatan', 'masyarakat', 'ppkm'], ['banyak', 'faktor', 'mempengaruhi', 'kondisi', 'penyakit', 'satu', 'stres', 'menjadi', 'salah', 'satu', 'pemicu', 'terbesar', 'eksim', 'lifestyle'], ['indonesia', 'persero', 'sedang', 'membuka', 'lowongan', 'kerja', 'lulusan'], ['dokter', 'mengungkapkan', 'pasien', 'autoimun', 'kulit', 'divaksinasi', 'covid', 'asalkan', 'memenuhi', 'syarat', 'syarat', 'ditentukan'], ['target', 'tersebut', 'dipatok', 'dinkes', 'kota', 'depok', 'pelaksanaan', 'kegiatan', 'bulan', 'imunisasi', 'anak', 'sekolah', 'bias', 'november', 'hingga', 'desember'], ['polisi', 'langsung', 'menerapkan', 'sanksi', 'tilang', 'jumlah', 'kendaraan', 'lolos', 'emisi', 'sangat', 'sedikit'], ['libur', 'nataru', 'selalu', 'identik', 'mobilitas', 'masyarakat', 'jangan', 'menimbulkan', 'lonjakan', 'kasus', 'covid'], ['sulhan', 'merasa', 'geram', 'pilkades', 'muncul', 'kabar', 'sedap', 'diduga', 'kubu', 'lawan', 'berisi', 'fitnah', 'memojokkan', 'dirinya'], ['kamis', 'pagi', 'terjadi', 'kali', 'gempa', 'berskala', 'kecil', 'wilayah', 'salatiga', 'kabupaten', 'semarang', 'kedalaman', 'gempa', 'kilometer'], ['ssaat', 'memilih', 'lantai', 'dapur', 'diperhatikan', 'perawatan', 'ketahanannya', 'berikut', 'beberapa', 'pilihannya'], ['produksi', 'ipad', 'terpantau', 'merosot', 'hingga', 'persen', 'sepanjang', 'september', 'oktober', 'pemesan', 'ipad', 'menerima', 'unitnya', 'terlambat'], ['hari', 'tahun', 'lalu', 'grand', 'oldman', 'haji', 'agus', 'salim', 'tutup', 'usia', 'november'], ['ivan', 'gunawan', 'tampak', 'terkejut', 'gembira', 'celana', 'jeans', 'ukuran', 'kini', 'muat', 'kakinya'], ['komandan', 'senior', 'taliban', 'hamdullah', 'mokhlis', 'tewas', 'bertempur', 'melawan', 'isis', 'sebuah', 'rumah', 'sakit', 'afghanistan'], ['menko', 'marves', 'luhut', 'binsar', 'pandjaitan', 'mengklaim', 'dirinya', 'pernah', 'sedikit', 'mengambil', 'keuntungan', 'pribadi', 'bisnis', 'dijalankan', 'genomik', 'solidaritas', 'indonesia', 'money', 'jernihkanharapan'], ['beberapa', 'aturan', 'perjalanan', 'diubah', 'jangka', 'waktu', 'relatif', 'singkat', 'dinilai', 'membingungkan'], ['kremlin', 'membantah', 'rusia', 'serius', 'menangani', 'perubahan', 'iklim', 'presiden', 'vladimir', 'putin', 'hadir', 'glasgow'], ['rossa', 'raffi', 'ahmad', 'tyna', 'kanna', 'mirdad', 'niko', 'hakim', 'sederet', 'selebgram', 'memberikan', 'dukungan', 'rachel', 'vennya'], ['bank', 'indonesia', 'mulai', 'mengimplementasikan', 'fast', 'payment', 'tahap', 'pertama', 'pekan', 'kedua', 'desember', 'tahun'], ['liverpool', 'dipastikan', 'lolos', 'babak', 'besar', 'liga', 'champions', 'juara', 'grup', 'berikut', 'klasemen', 'lengkap', 'liga', 'champions'], ['robert', 'lewandowski', 'dinilai', 'pantas', 'menyabet', 'penghargaan', 'ballon'], ['cara', 'membuat', 'nasi', 'udang', 'resep', 'jualan']]\n"
          ]
        }
      ],
      "source": [
        "import re\n",
        "factory = StopWordRemoverFactory()\n",
        "ind_stopword = factory.get_stop_words()\n",
        "\n",
        "def stopword(line):\n",
        "  temp = list()\n",
        "  for word in line:\n",
        "    if (word not in ind_stopword):\n",
        "      word = re.sub(r'[^a-zA-Z]','',word)\n",
        "      if(len(word)>3):\n",
        "        temp.append(word)\n",
        "  return temp\n",
        "\n",
        "ulasan_bersih = [stopword(line) for line in data_tokens]\n",
        "print(ulasan_bersih)"
      ]
    },
    {
      "cell_type": "code",
      "execution_count": null,
      "metadata": {
        "colab": {
          "base_uri": "https://localhost:8080/"
        },
        "id": "BZuX6tsusbBO",
        "outputId": "45c21c48-5964-4a8e-c166-35e325895057"
      },
      "outputs": [
        {
          "name": "stdout",
          "output_type": "stream",
          "text": [
            "[['fakta', 'gagal', 'jantung', 'mulai', 'tips', 'menghindari', 'jenisnya', 'dialami', 'orang', 'muda', 'hingga', 'ritual', 'pengorbanan', 'manusia', 'kuno'], ['kemenhub', 'memberlakukan', 'aturan', 'terbaru', 'perjalanan', 'udara', 'domestik'], ['berikut', 'daftar', 'maupun', 'masuk', 'pemeringkatan', 'asia', 'university', 'rankings'], ['rektor', 'jamal', 'sangat', 'menyesalkan', 'terjadinya', 'peristiwa', 'meninggalnya', 'gilang', 'menwa', 'kejadian', 'diharapkan', 'semua', 'kalangan'], ['aksi', 'november', 'diikuti', 'lebih', 'buruh', 'pabrik', 'provinsi', 'lebih', 'kabupaten', 'kota', 'kata', 'said'], ['pembukaan', 'musabaqah', 'tilawatil', \"qur'an\", 'jawa', 'timur', 'xxix', 'digelar', 'depan', 'kantor', 'bakorwil', 'pamekasan', 'rabu', 'malam'], ['perkara', 'menyangkut', 'dugaan', 'penggelapan', 'pajero', 'awalnya', 'dimasukkan', 'gugatan', 'perdata'], ['dala', 'praktiknya', 'life', 'jacket', 'pernah', 'dipakaikan', 'penumpang', 'maupun', 'awak', 'kapal', 'kata', 'kepala', 'dinas', 'perhubungan', 'provinsi', 'jawa', 'timur', 'nyono'], ['mengonsumsi', 'bahan', 'makanan', 'hewani', 'sebagian', 'vegetarian', 'memilih', 'makan', 'bawang'], ['penelitian', 'mengungkapkan', 'bergerak', 'lima', 'menit', 'sekali', 'jamnya', 'mencegah', 'dampak', 'negatif', 'kurang', 'aktif', 'bergerak'], ['awalnya', 'warga', 'curiga', 'mobil', 'terparkir', 'lama', 'pinggir', 'jalan', 'dicek', 'ternyata', 'pengemudi', 'meninggal'], ['facebook', 'dianggap', 'menjadi', 'perusahaan', 'jejaring', 'sosial', 'masalah', 'sama', 'bila', 'perombakan', 'level', 'pimpinan'], ['walaupun', 'menggunakan', 'aplikasi', 'pedulilindungi', 'pemeriksaan', 'kartu', 'vaksin', 'wisatawan', 'diimbau', 'patuh', 'prokes'], ['update', 'harga', 'bahan', 'bakar', 'minyak', 'november', 'shell', 'mengalami', 'kenaikan', 'pertamina', 'tetap'], ['hasil', 'investigasi', 'pentagon', 'menyatakan', 'serangan', 'drone', 'salah', 'sasaran', 'menewaskan', 'warga', 'sipil', 'afghanistan', 'melanggar', 'hukum'], ['jangan', 'sembarangan', 'menyesap', 'kopi', 'baiknya', 'pilih', 'jenis', 'kopi', 'paling', 'sesuai', 'kondisi', 'tubuh', 'kafein', 'mencederai', 'lambung', 'saraf'], ['wendi', 'cagur', 'sempat', 'diusir', 'anaknya', 'dekat', 'kiky', 'saputri', 'semua', 'berawal', 'video', 'joget', 'bareng', 'wendi', 'kiky', 'saputri'], ['indeks', 'harga', 'saham', 'gabungan', 'ihsg', 'bergerak', 'zona', 'hijau', 'awal', 'perdagangan', 'bursa', 'efek', 'indonesia', 'kamis'], ['dipusatkan', 'balai', 'kota', 'pemda', 'estimasi', 'jumlah', 'massa', 'buruh', 'mengikuti', 'protokol', 'kesehatan'], ['video', 'tersebut', 'memperlihatkan', 'nikita', 'cinta', 'seakan', 'tengah', 'beradu', 'pendapat', 'soal', 'cara', 'berpakaian', 'beretika'], ['gadot', 'sedang', 'diskusi', 'akhir', 'didapuk', 'memerankan', 'karakter', 'ratu', 'jahat', 'live', 'action', 'snow', 'white'], ['greenwashing', 'digunakan', 'menyebut', 'perusahaan', 'mengeklaim', 'melindungi', 'lingkungan', 'waktu', 'bersamaan', 'terus', 'merusaknya'], ['heboh', 'salam', 'binjai', 'sejumlah', 'anak', 'anak', 'daerah', 'ikut', 'merusak', 'pohon', 'pisang', 'polisi', 'meminta', 'orangtua', 'ikut', 'mengawasi', 'kegiatan', 'anak', 'anak'], ['diblokir', 'pihak', 'bank', 'sama', 'sekali', 'memberikan', 'penjelasan', 'alasan', 'rekening', 'klien', 'diblokir', 'jelas', 'kuasa', 'hukum', 'dewi', 'ratna', 'indah'], ['pelaku', 'pencabulan', 'anak', 'tahun', 'pontianak', 'rata', 'rata', 'berusia', 'tahun', 'berusia', 'tahun', 'tahun'], ['warna', 'dinding', 'rumah', 'ternyata', 'mampu', 'memengaruhi', 'suasana', 'hati', 'emosi', 'perilaku'], ['walaupun', 'menggunakan', 'aplikasi', 'pedulilindungi', 'pemeriksaan', 'kartu', 'vaksin', 'wisatawan', 'diimbau', 'patuh', 'prokes'], ['resep', 'bakpao', 'ungu', 'empuk', 'lembut', 'mengembang', 'kamu', 'buat', 'mudah', 'rumah', 'pakai', 'isian', 'kacang', 'mete', 'biji', 'wijen'], ['door', 'visor', 'kerap', 'disebut', 'talang', 'merupakan', 'aksesori', 'digunakan', 'pemilik', 'mobil'], ['facebook', 'dianggap', 'menjadi', 'perusahaan', 'jejaring', 'sosial', 'masalah', 'sama', 'bila', 'perombakan', 'level', 'pimpinan'], ['skuad', 'indonesia', 'piala', 'thomas', 'merupakan', 'generasi', 'emas', 'sukses', 'mewujudkan', 'mimpi', 'membawa', 'pulang', 'trofi', 'tersebut'], ['laga', 'persela', 'persela', 'bandung', 'dijadwalkan', 'berlangsung', 'stadion', 'maguwoharjo', 'sleman', 'yogyakarta', 'kamis', 'pukul'], ['polda', 'metro', 'jaya', 'menetapkan', 'rachel', 'vennya', 'tiga', 'orang', 'ikut', 'terlibat', 'kasus', 'tersebut', 'tersangka'], ['dinas', 'kesehatan', 'provinsi', 'jakarta', 'memberikan', 'edukasi', 'orangtua', 'pentingnya', 'vaksinasi', 'covid', 'anak', 'usia', 'tahun'], ['mengidap', 'kanker', 'prostat', 'menjalani', 'perawatan', 'bagaimana', 'aturan', 'perawatan', 'mantan', 'presiden'], ['presiden', 'jokowi', 'masuk', 'jajaran', 'tokoh', 'muslim', 'paling', 'berpengaruh', 'tahun', 'seluruh', 'dunia', 'jokowi', 'tokoh', 'muslim', 'paling', 'berpengaruh', 'indonesia', 'tren', 'jernihkanharapan'], ['pemberian', 'vaksin', 'sinovac', 'usia', 'tahun', 'diizinkan', 'indonesia', 'berikut', 'fakta', 'fakta', 'mengenai', 'penggunaan', 'vaksin', 'anak', 'anak'], ['sebuah', 'drama', 'remaja', 'diadaptasi', 'novel', 'laris', 'judul', 'sama'], ['staf', 'ahli', 'menteri', 'keuangan', 'bidang', 'kepatuhan', 'pajak', 'arsal', 'mengatakan', 'pihaknya', 'mendiskusikan', 'instrumen', 'tepat', 'stakeholder', 'terkait'], ['siapkan', 'diri', 'berani', 'menghadapi', 'tantangan', 'menang', 'segala', 'situasi', 'kepemimpinan'], ['merawat', 'lansia', 'pekerjaan', 'terberat', 'diantara', 'berat', 'butuh', 'support', 'publik', 'manusia', 'tinggal', 'sampah', 'kolong', 'jembatan', 'kata', 'arif', 'camra', 'regional', 'jernihkanharapan'], ['satu', 'faktor', 'menjadi', 'penyebab', 'seseorang', 'sulit', 'tertidur', 'desain', 'kamar', 'tidur'], ['menyewakan', 'rumah', 'orang', 'wajib', 'mengasuransikan', 'properti', 'melakukan', 'renovasi', 'menentukan', 'harga', 'sewa', 'rumah', 'tepat'], ['akhir', 'batu', 'bara', 'depan', 'mata', 'kata', 'menteri', 'bisnis', 'energi', 'inggris', 'kwasi', 'kwarteng'], ['tudingan', 'bermula', 'beredarnya', 'potongan', 'video', 'deddy', 'corbuzier', 'media', 'sosial', 'mengatakan', 'tamu', 'siniar', 'podcast', 'meminta', 'bayaran'], ['penetapan', 'tersangka', 'penyidik', 'direktorat', 'reserse', 'kriminal', 'umum', 'ditreskrimum', 'polda', 'metro', 'jaya', 'menghelat', 'gelar', 'perkara'], ['jenis', 'penyakit', 'jantung', 'dialami', 'orang', 'muda', 'bawah', 'usia', 'tahun', 'mulai', 'gagal', 'jantung', 'serangan', 'jantung', 'kardiomiopati'], ['cukup', 'fokus', 'salah', 'satu', 'kabupaten', 'angka', 'kematian', 'bayinya', 'tinggi', 'kerjakan', 'tuntas', 'baru', 'beralih', 'program', 'kabupaten'], ['ridwan', 'kamil', 'menyampaikan', 'dunia', 'sungai', 'citarum', 'seburuk'], ['seorang', 'tahanan', 'kasus', 'narkoba', 'kabur', 'polresta', 'pekanbaru', 'melompat', 'lantai', 'kabur', 'dibantu', 'istri', 'adik', 'keponakan', 'temannya'], ['meskipun', 'bukan', 'tanaman', 'rentan', 'serangan', 'hama', 'serangga', 'menutup', 'kemungkinan', 'infestasi', 'hama', 'terjadi', 'tanaman', 'pakis', 'boston'], ['kadar', 'kolesterol', 'jahat', 'tubuh', 'turun', 'mencoba', 'melakukan', 'empat', 'olahraga', 'berikut', 'jogging', 'berenang', 'bersepeda', 'yoga'], ['anak', 'makan', 'lebih', 'banyak', 'buah', 'sayuran', 'memiliki', 'kesehatan', 'mental', 'lebih', 'baik'], ['diterapkan', 'penuh', 'gardu', 'pengguna', 'bakal', 'terhubung', 'satelit', 'proses', 'bayar'], ['korban', 'mendapatkan', 'perawatan', 'ruang', 'rawat', 'inap', 'sebelumnya', 'ditangani', 'instalasi', 'gawat', 'darurat', 'kuningan'], ['pemprov', 'awalnya', 'mengumumkan', 'menerapkani', 'tilang', 'kendaraan', 'bermotor', 'lulus', 'emisi', 'mulai', 'november', 'ditunda'], ['kemenkeu', 'optimistis', 'target', 'penerimaan', 'pajak', 'tahun', 'mendekati', 'target', 'triliun', 'apbn'], ['sangat', 'berharap', 'mulia', 'menerima', 'undangan'], ['sisi', 'gonta', 'ganti', 'aturan', 'waktu', 'singkat', 'menimbulkan', 'kebingungan', 'masyarakat', 'tren', 'jernihkanharapan'], ['lebih', 'seperempat', 'staf', 'angeles', 'county', 'sheriff', 'departemen', 'sheriff', 'terbesar', 'terancam', 'dipecat', 'menolak', 'divaksin'], ['serius', 'menjalani', 'hubungan', 'jessica', 'iskandar', 'vincent', 'pernah', 'tegaskan', 'soal', 'keuangan', 'jessica'], ['arab', 'saudi', 'menyetujui', 'penggunaan', 'vaksin', 'anak', 'tahun', 'vaksinasi', 'covid', 'anak', 'dimulai'], ['rumput', 'spesial', 'membutuhkan', 'perawatan', 'ekstra', 'jakpro', 'enggan', 'menggunakan', 'pestisida', 'memilih', 'menggunakan', 'cara', 'alami', 'memanfaatkan', 'burung', 'kaki', 'bayam', 'megapolitan'], ['aktor', 'daniel', 'didapuk', 'memerankan', 'tokoh', 'raja', 'ozai', 'avatar', 'last', 'airbender', 'serial', 'live', 'action', 'diadaptasi', 'netflix'], ['kerangka', 'john', 'berusia', 'juta', 'tahun', 'panjang', 'delapan', 'meter', 'pembelinya', 'seorang', 'kolektor', 'amerika', 'serikat'], ['china', 'menyerang', 'taiwan', 'waktu', 'dekat', 'meski', 'militernya', 'mengembangkan', 'kemampuan', 'memungkinkan', 'merebut', 'pulau', 'tersebut'], ['babak', 'kedua', 'alias', 'besar', 'hylo', 'open', 'digulirkan', 'hari', 'kamis', 'saarlandhalle', 'saarbruecken', 'jerman'], ['pemerintah', 'kota', 'medan', 'yakin', 'jadi', 'destinasi', 'wisata', 'garstronomi', 'wisata', 'kuliner'], ['kucing', 'berbulu', 'hasil', 'mutasi', 'genetik', 'menghilangkan', 'bulu', 'pelindung'], ['gejala', 'bronkitis', 'kronis', 'penting', 'dikenali', 'mendukung', 'upaya', 'diag'], ['alih', 'alih', 'memandang', 'buruk', 'pasangannya', 'melakukan', 'tindakan', 'kekerasan', 'wanita', 'justru', 'mencoba', 'mengubah', 'dirinya', 'bahagia'], ['banyak', 'perubahan', 'dialami', 'seorang', 'perempuan', 'menjadi', 'termasuk', 'antaranya', 'mengubah', 'tujuan', 'hidup'], ['bocah', 'tahun', 'brebes', 'jawa', 'tengah', 'hampir', 'sebulan', 'terbaring', 'lemas', 'menelan', 'uang', 'koin', 'kedua', 'orangtuanya', 'biaya', 'operasi'], ['menjelang', 'akhir', 'tahun', 'curah', 'hujan', 'tinggi', 'mulai', 'mengguyur', 'beberapa', 'kawasan', 'wilayah', 'indonesia'], ['direktorat', 'jenderal', 'pajak', 'kementerian', 'keuangan', 'mengejar', 'pengemplang', 'pajak', 'hingga', 'luar', 'negeri'], ['penunjukan', 'andika', 'menjadi', 'calon', 'tunggal', 'panglima', 'mendapat', 'dukungan', 'sejumlah', 'pihak', 'antaranya', 'menhan', 'prabowo', 'subianto'], ['banyak', 'memberikan', 'sindiran', 'atas', 'komentar', 'rossa', 'dianggap', 'mendukung', 'rachel', 'berani', 'meminta', 'maaf', 'hype'], ['ihsg', 'diproyeksikan', 'menguat', 'kamis', 'ihsg', 'rabu', 'ditutup', 'positif', 'level', 'naik', 'poin', 'persen'], ['melihat', 'kebenaran', 'dibalik', 'zero', 'ramah', 'lingkungan'], ['perpanjangan', 'waktu', 'operasional', 'tersebut', 'seiring', 'pelonggaran', 'kebijakan', 'pemerintah', 'terkait', 'penerapan', 'pembatasan', 'kegiatan', 'masyarakat', 'ppkm'], ['banyak', 'faktor', 'mempengaruhi', 'kondisi', 'penyakit', 'satu', 'stres', 'menjadi', 'salah', 'satu', 'pemicu', 'terbesar', 'eksim', 'lifestyle'], ['indonesia', 'persero', 'sedang', 'membuka', 'lowongan', 'kerja', 'lulusan'], ['dokter', 'mengungkapkan', 'pasien', 'autoimun', 'kulit', 'divaksinasi', 'covid', 'asalkan', 'memenuhi', 'syarat', 'syarat', 'ditentukan'], ['target', 'tersebut', 'dipatok', 'dinkes', 'kota', 'depok', 'pelaksanaan', 'kegiatan', 'bulan', 'imunisasi', 'anak', 'sekolah', 'bias', 'november', 'hingga', 'desember'], ['polisi', 'langsung', 'menerapkan', 'sanksi', 'tilang', 'jumlah', 'kendaraan', 'lolos', 'emisi', 'sangat', 'sedikit'], ['libur', 'nataru', 'selalu', 'identik', 'mobilitas', 'masyarakat', 'jangan', 'menimbulkan', 'lonjakan', 'kasus', 'covid'], ['sulhan', 'merasa', 'geram', 'pilkades', 'muncul', 'kabar', 'sedap', 'diduga', 'kubu', 'lawan', 'berisi', 'fitnah', 'memojokkan', 'dirinya'], ['kamis', 'pagi', 'terjadi', 'kali', 'gempa', 'berskala', 'kecil', 'wilayah', 'salatiga', 'kabupaten', 'semarang', 'kedalaman', 'gempa', 'kilometer'], ['ssaat', 'memilih', 'lantai', 'dapur', 'diperhatikan', 'perawatan', 'ketahanannya', 'berikut', 'beberapa', 'pilihannya'], ['produksi', 'ipad', 'terpantau', 'merosot', 'hingga', 'persen', 'sepanjang', 'september', 'oktober', 'pemesan', 'ipad', 'menerima', 'unitnya', 'terlambat'], ['hari', 'tahun', 'lalu', 'grand', 'oldman', 'haji', 'agus', 'salim', 'tutup', 'usia', 'november'], ['ivan', 'gunawan', 'tampak', 'terkejut', 'gembira', 'celana', 'jeans', 'ukuran', 'kini', 'muat', 'kakinya'], ['komandan', 'senior', 'taliban', 'hamdullah', 'mokhlis', 'tewas', 'bertempur', 'melawan', 'isis', 'sebuah', 'rumah', 'sakit', 'afghanistan'], ['menko', 'marves', 'luhut', 'binsar', 'pandjaitan', 'mengklaim', 'dirinya', 'pernah', 'sedikit', 'mengambil', 'keuntungan', 'pribadi', 'bisnis', 'dijalankan', 'genomik', 'solidaritas', 'indonesia', 'money', 'jernihkanharapan'], ['beberapa', 'aturan', 'perjalanan', 'diubah', 'jangka', 'waktu', 'relatif', 'singkat', 'dinilai', 'membingungkan'], ['kremlin', 'membantah', 'rusia', 'serius', 'menangani', 'perubahan', 'iklim', 'presiden', 'vladimir', 'putin', 'hadir', 'glasgow'], ['rossa', 'raffi', 'ahmad', 'tyna', 'kanna', 'mirdad', 'niko', 'hakim', 'sederet', 'selebgram', 'memberikan', 'dukungan', 'rachel', 'vennya'], ['bank', 'indonesia', 'mulai', 'mengimplementasikan', 'fast', 'payment', 'tahap', 'pertama', 'pekan', 'kedua', 'desember', 'tahun'], ['liverpool', 'dipastikan', 'lolos', 'babak', 'besar', 'liga', 'champions', 'juara', 'grup', 'berikut', 'klasemen', 'lengkap', 'liga', 'champions'], ['robert', 'lewandowski', 'dinilai', 'pantas', 'menyabet', 'penghargaan', 'ballon', \"d'or\"], ['cara', 'membuat', 'nasi', 'udang', 'resep', 'jualan']]\n"
          ]
        }
      ],
      "source": [
        "# #stopword untuk hilangkan kata tidak penting kata hubung\n",
        "# import re\n",
        "# factory = StopWordRemoverFactory()\n",
        "# ind_stopword = factory.get_stop_words()\n",
        "\n",
        "# def stopword(line):\n",
        "#   temp = list()\n",
        "#   for word in line:\n",
        "#     if (word not in ind_stopword):\n",
        "#       if(len(word)>3):\n",
        "#         temp.append(word)\n",
        "#   return temp\n",
        "\n",
        "# ulasan_bersih = [stopword(line) for line in data_tokens]\n",
        "# print(ulasan_bersih)"
      ]
    },
    {
      "cell_type": "markdown",
      "metadata": {
        "id": "NRLa0Yn7tmVG"
      },
      "source": [
        "#slangword"
      ]
    },
    {
      "cell_type": "code",
      "execution_count": null,
      "metadata": {
        "colab": {
          "base_uri": "https://localhost:8080/"
        },
        "id": "CzYqKHgJsd7X",
        "outputId": "024377a4-4e7d-4985-dec0-204c0943313d"
      },
      "outputs": [
        {
          "name": "stdout",
          "output_type": "stream",
          "text": [
            "[['fakta', 'gagal', 'jantung', 'mulai', 'tips', 'menghindari', 'jenisnya', 'dialami', 'orang', 'muda', 'hingga', 'ritual', 'pengorbanan', 'manusia', 'kuno'], ['kemenhub', 'memberlakukan', 'aturan', 'terbaru', 'perjalanan', 'udara', 'domestik'], ['berikut', 'daftar', 'maupun', 'masuk', 'pemeringkatan', 'asia', 'university', 'rankings'], ['rektor', 'jamal', 'sangat', 'menyesalkan', 'terjadinya', 'peristiwa', 'meninggalnya', 'gilang', 'menwa', 'kejadian', 'diharapkan', 'semua', 'kalangan'], ['aksi', 'november', 'diikuti', 'lebih', 'buruh', 'pabrik', 'provinsi', 'lebih', 'kabupaten', 'kota', 'kata', 'said'], ['pembukaan', 'musabaqah', 'tilawatil', 'quran', 'jawa', 'timur', 'xxix', 'digelar', 'depan', 'kantor', 'bakorwil', 'pamekasan', 'rabu', 'malam'], ['perkara', 'menyangkut', 'dugaan', 'penggelapan', 'pajero', 'awalnya', 'dimasukkan', 'gugatan', 'perdata'], ['dala', 'praktiknya', 'life', 'jacket', 'pernah', 'dipakaikan', 'penumpang', 'maupun', 'awak', 'kapal', 'kata', 'kepala', 'dinas', 'perhubungan', 'provinsi', 'jawa', 'timur', 'nyono'], ['mengonsumsi', 'bahan', 'makanan', 'hewani', 'sebagian', 'vegetarian', 'memilih', 'makan', 'bawang'], ['penelitian', 'mengungkapkan', 'bergerak', 'lima', 'menit', 'sekali', 'jamnya', 'mencegah', 'dampak', 'negatif', 'kurang', 'aktif', 'bergerak'], ['awalnya', 'warga', 'curiga', 'mobil', 'terparkir', 'lama', 'pinggir', 'jalan', 'dicek', 'ternyata', 'pengemudi', 'meninggal'], ['facebook', 'dianggap', 'menjadi', 'perusahaan', 'jejaring', 'sosial', 'masalah', 'sama', 'bila', 'perombakan', 'level', 'pimpinan'], ['walaupun', 'menggunakan', 'aplikasi', 'pedulilindungi', 'pemeriksaan', 'kartu', 'vaksin', 'wisatawan', 'diimbau', 'patuh', 'prokes'], ['update', 'harga', 'bahan', 'bakar', 'minyak', 'november', 'shell', 'mengalami', 'kenaikan', 'pertamina', 'tetap'], ['hasil', 'investigasi', 'pentagon', 'menyatakan', 'serangan', 'drone', 'salah', 'sasaran', 'menewaskan', 'warga', 'sipil', 'afghanistan', 'melanggar', 'hukum'], ['jangan', 'sembarangan', 'menyesap', 'kopi', 'baiknya', 'pilih', 'jenis', 'kopi', 'paling', 'sesuai', 'kondisi', 'tubuh', 'kafein', 'mencederai', 'lambung', 'saraf'], ['wendi', 'cagur', 'sempat', 'diusir', 'anaknya', 'dekat', 'kiky', 'saputri', 'semua', 'berawal', 'video', 'joget', 'bareng', 'wendi', 'kiky', 'saputri'], ['indeks', 'harga', 'saham', 'gabungan', 'ihsg', 'bergerak', 'zona', 'hijau', 'awal', 'perdagangan', 'bursa', 'efek', 'indonesia', 'kamis'], ['dipusatkan', 'balai', 'kota', 'pemda', 'estimasi', 'jumlah', 'massa', 'buruh', 'mengikuti', 'protokol', 'kesehatan'], ['video', 'tersebut', 'memperlihatkan', 'nikita', 'cinta', 'seakan', 'tengah', 'beradu', 'pendapat', 'soal', 'cara', 'berpakaian', 'beretika'], ['gadot', 'sedang', 'diskusi', 'akhir', 'didapuk', 'memerankan', 'karakter', 'ratu', 'jahat', 'live', 'action', 'snow', 'white'], ['greenwashing', 'digunakan', 'menyebut', 'perusahaan', 'mengeklaim', 'melindungi', 'lingkungan', 'waktu', 'bersamaan', 'terus', 'merusaknya'], ['heboh', 'salam', 'binjai', 'sejumlah', 'anak', 'anak', 'daerah', 'ikut', 'merusak', 'pohon', 'pisang', 'polisi', 'meminta', 'orangtua', 'ikut', 'mengawasi', 'kegiatan', 'anak', 'anak'], ['diblokir', 'pihak', 'bank', 'sama', 'sekali', 'memberikan', 'penjelasan', 'alasan', 'rekening', 'klien', 'diblokir', 'jelas', 'kuasa', 'hukum', 'dewi', 'ratna', 'indah'], ['pelaku', 'pencabulan', 'anak', 'tahun', 'pontianak', 'rata', 'rata', 'berusia', 'tahun', 'berusia', 'tahun', 'tahun'], ['warna', 'dinding', 'rumah', 'ternyata', 'mampu', 'memengaruhi', 'suasana', 'hati', 'emosi', 'perilaku'], ['walaupun', 'menggunakan', 'aplikasi', 'pedulilindungi', 'pemeriksaan', 'kartu', 'vaksin', 'wisatawan', 'diimbau', 'patuh', 'prokes'], ['resep', 'bakpao', 'ungu', 'empuk', 'lembut', 'mengembang', 'kamu', 'buat', 'mudah', 'rumah', 'pakai', 'isian', 'kacang', 'mete', 'biji', 'wijen'], ['door', 'visor', 'kerap', 'disebut', 'talang', 'merupakan', 'aksesori', 'digunakan', 'pemilik', 'mobil'], ['facebook', 'dianggap', 'menjadi', 'perusahaan', 'jejaring', 'sosial', 'masalah', 'sama', 'bila', 'perombakan', 'level', 'pimpinan'], ['skuad', 'indonesia', 'piala', 'thomas', 'merupakan', 'generasi', 'emas', 'sukses', 'mewujudkan', 'mimpi', 'membawa', 'pulang', 'trofi', 'tersebut'], ['laga', 'persela', 'persela', 'bandung', 'dijadwalkan', 'berlangsung', 'stadion', 'maguwoharjo', 'sleman', 'yogyakarta', 'kamis', 'pukul'], ['polda', 'metro', 'jaya', 'menetapkan', 'rachel', 'vennya', 'tiga', 'orang', 'ikut', 'terlibat', 'kasus', 'tersebut', 'tersangka'], ['dinas', 'kesehatan', 'provinsi', 'jakarta', 'memberikan', 'edukasi', 'orangtua', 'pentingnya', 'vaksinasi', 'covid', 'anak', 'usia', 'tahun'], ['mengidap', 'kanker', 'prostat', 'menjalani', 'perawatan', 'bagaimana', 'aturan', 'perawatan', 'mantan', 'presiden'], ['presiden', 'joko widodo', 'masuk', 'jajaran', 'tokoh', 'muslim', 'paling', 'berpengaruh', 'tahun', 'seluruh', 'dunia', 'joko widodo', 'tokoh', 'muslim', 'paling', 'berpengaruh', 'indonesia', 'tren', 'jernihkanharapan'], ['pemberian', 'vaksin', 'sinovac', 'usia', 'tahun', 'diizinkan', 'indonesia', 'berikut', 'fakta', 'fakta', 'mengenai', 'penggunaan', 'vaksin', 'anak', 'anak'], ['sebuah', 'drama', 'remaja', 'diadaptasi', 'novel', 'laris', 'judul', 'sama'], ['staf', 'ahli', 'menteri', 'keuangan', 'bidang', 'kepatuhan', 'pajak', 'arsal', 'mengatakan', 'pihaknya', 'mendiskusikan', 'instrumen', 'tepat', 'stakeholder', 'terkait'], ['siapkan', 'diri', 'berani', 'menghadapi', 'tantangan', 'menang', 'segala', 'situasi', 'kepemimpinan'], ['merawat', 'lansia', 'pekerjaan', 'terberat', 'diantara', 'berat', 'butuh', 'support', 'publik', 'manusia', 'tinggal', 'sampah', 'kolong', 'jembatan', 'kata', 'arif', 'camra', 'regional', 'jernihkanharapan'], ['satu', 'faktor', 'menjadi', 'penyebab', 'seseorang', 'sulit', 'tertidur', 'desain', 'kamar', 'tidur'], ['menyewakan', 'rumah', 'orang', 'wajib', 'mengasuransikan', 'properti', 'melakukan', 'renovasi', 'menentukan', 'harga', 'sewa', 'rumah', 'tepat'], ['akhir', 'batu', 'bara', 'depan', 'mata', 'kata', 'menteri', 'bisnis', 'energi', 'inggris', 'kwasi', 'kwarteng'], ['tudingan', 'bermula', 'beredarnya', 'potongan', 'video', 'deddy', 'corbuzier', 'media', 'sosial', 'mengatakan', 'tamu', 'siniar', 'podcast', 'meminta', 'bayaran'], ['penetapan', 'tersangka', 'penyidik', 'direktorat', 'reserse', 'kriminal', 'umum', 'ditreskrimum', 'polda', 'metro', 'jaya', 'menghelat', 'gelar', 'perkara'], ['jenis', 'penyakit', 'jantung', 'dialami', 'orang', 'muda', 'bawah', 'usia', 'tahun', 'mulai', 'gagal', 'jantung', 'serangan', 'jantung', 'kardiomiopati'], ['cukup', 'fokus', 'salah', 'satu', 'kabupaten', 'angka', 'kematian', 'bayinya', 'tinggi', 'kerjakan', 'tuntas', 'baru', 'beralih', 'program', 'kabupaten'], ['ridwan', 'kamil', 'menyampaikan', 'dunia', 'sungai', 'citarum', 'seburuk'], ['seorang', 'tahanan', 'kasus', 'narkoba', 'kabur', 'polresta', 'pekanbaru', 'melompat', 'lantai', 'kabur', 'dibantu', 'istri', 'adik', 'keponakan', 'temannya'], ['meskipun', 'bukan', 'tanaman', 'rentan', 'serangan', 'hama', 'serangga', 'menutup', 'kemungkinan', 'infestasi', 'hama', 'terjadi', 'tanaman', 'pakis', 'boston'], ['kadar', 'kolesterol', 'jahat', 'tubuh', 'turun', 'mencoba', 'melakukan', 'empat', 'olahraga', 'berikut', 'jogging', 'berenang', 'bersepeda', 'yoga'], ['anak', 'makan', 'lebih', 'banyak', 'buah', 'sayuran', 'memiliki', 'kesehatan', 'mental', 'lebih', 'baik'], ['diterapkan', 'penuh', 'gardu', 'pengguna', 'bakal', 'terhubung', 'satelit', 'proses', 'bayar'], ['korban', 'mendapatkan', 'perawatan', 'ruang', 'rawat', 'inap', 'sebelumnya', 'ditangani', 'instalasi', 'gawat', 'darurat', 'kuningan'], ['pemprov', 'awalnya', 'mengumumkan', 'menerapkani', 'tilang', 'kendaraan', 'bermotor', 'lulus', 'emisi', 'mulai', 'november', 'ditunda'], ['kemenkeu', 'optimistis', 'target', 'penerimaan', 'pajak', 'tahun', 'mendekati', 'target', 'triliun', 'apbn'], ['sangat', 'berharap', 'mulia', 'menerima', 'undangan'], ['sisi', 'gonta', 'ganti', 'aturan', 'waktu', 'singkat', 'menimbulkan', 'kebingungan', 'masyarakat', 'tren', 'jernihkanharapan'], ['lebih', 'seperempat', 'staf', 'angeles', 'county', 'sheriff', 'departemen', 'sheriff', 'terbesar', 'terancam', 'dipecat', 'menolak', 'divaksin'], ['serius', 'menjalani', 'hubungan', 'jessica', 'iskandar', 'vincent', 'pernah', 'tegaskan', 'soal', 'keuangan', 'jessica'], ['arab', 'saudi', 'menyetujui', 'penggunaan', 'vaksin', 'anak', 'tahun', 'vaksinasi', 'covid', 'anak', 'dimulai'], ['rumput', 'spesial', 'membutuhkan', 'perawatan', 'ekstra', 'jakpro', 'enggan', 'menggunakan', 'pestisida', 'memilih', 'menggunakan', 'cara', 'alami', 'memanfaatkan', 'burung', 'kaki', 'bayam', 'megapolitan'], ['aktor', 'daniel', 'didapuk', 'memerankan', 'tokoh', 'raja', 'ozai', 'avatar', 'last', 'airbender', 'serial', 'live', 'action', 'diadaptasi', 'netflix'], ['kerangka', 'john', 'berusia', 'juta', 'tahun', 'panjang', 'delapan', 'meter', 'pembelinya', 'seorang', 'kolektor', 'amerika', 'serikat'], ['china', 'menyerang', 'taiwan', 'waktu', 'dekat', 'meski', 'militernya', 'mengembangkan', 'kemampuan', 'memungkinkan', 'merebut', 'pulau', 'tersebut'], ['babak', 'kedua', 'alias', 'besar', 'hylo', 'open', 'digulirkan', 'hari', 'kamis', 'saarlandhalle', 'saarbruecken', 'jerman'], ['pemerintah', 'kota', 'medan', 'yakin', 'jadi', 'destinasi', 'wisata', 'garstronomi', 'wisata', 'kuliner'], ['kucing', 'berbulu', 'hasil', 'mutasi', 'genetik', 'menghilangkan', 'bulu', 'pelindung'], ['gejala', 'bronkitis', 'kronis', 'penting', 'dikenali', 'mendukung', 'upaya', 'diag'], ['alih', 'alih', 'memandang', 'buruk', 'pasangannya', 'melakukan', 'tindakan', 'kekerasan', 'wanita', 'justru', 'mencoba', 'mengubah', 'dirinya', 'bahagia'], ['banyak', 'perubahan', 'dialami', 'seorang', 'perempuan', 'menjadi', 'termasuk', 'antaranya', 'mengubah', 'tujuan', 'hidup'], ['bocah', 'tahun', 'brebes', 'jawa', 'tengah', 'hampir', 'sebulan', 'terbaring', 'lemas', 'menelan', 'uang', 'koin', 'kedua', 'orangtuanya', 'biaya', 'operasi'], ['menjelang', 'akhir', 'tahun', 'curah', 'hujan', 'tinggi', 'mulai', 'mengguyur', 'beberapa', 'kawasan', 'wilayah', 'indonesia'], ['direktorat', 'jenderal', 'pajak', 'kementerian', 'keuangan', 'mengejar', 'pengemplang', 'pajak', 'hingga', 'luar', 'negeri'], ['penunjukan', 'andika', 'menjadi', 'calon', 'tunggal', 'panglima', 'mendapat', 'dukungan', 'sejumlah', 'pihak', 'antaranya', 'menhan', 'prabowo', 'subianto'], ['banyak', 'memberikan', 'sindiran', 'atas', 'komentar', 'rossa', 'dianggap', 'mendukung', 'rachel', 'berani', 'meminta', 'maaf', 'hype'], ['ihsg', 'diproyeksikan', 'menguat', 'kamis', 'ihsg', 'rabu', 'ditutup', 'positif', 'level', 'naik', 'poin', 'persen'], ['melihat', 'kebenaran', 'dibalik', 'zero', 'ramah', 'lingkungan'], ['perpanjangan', 'waktu', 'operasional', 'tersebut', 'seiring', 'pelonggaran', 'kebijakan', 'pemerintah', 'terkait', 'penerapan', 'pembatasan', 'kegiatan', 'masyarakat', 'ppkm'], ['banyak', 'faktor', 'mempengaruhi', 'kondisi', 'penyakit', 'satu', 'stres', 'menjadi', 'salah', 'satu', 'pemicu', 'terbesar', 'eksim', 'lifestyle'], ['indonesia', 'persero', 'sedang', 'membuka', 'lowongan', 'kerja', 'lulusan'], ['dokter', 'mengungkapkan', 'pasien', 'autoimun', 'kulit', 'divaksinasi', 'covid', 'asalkan', 'memenuhi', 'syarat', 'syarat', 'ditentukan'], ['target', 'tersebut', 'dipatok', 'dinkes', 'kota', 'depok', 'pelaksanaan', 'kegiatan', 'bulan', 'imunisasi', 'anak', 'sekolah', 'bias', 'november', 'hingga', 'desember'], ['polisi', 'langsung', 'menerapkan', 'sanksi', 'tilang', 'jumlah', 'kendaraan', 'lolos', 'emisi', 'sangat', 'sedikit'], ['libur', 'nataru', 'selalu', 'identik', 'mobilitas', 'masyarakat', 'jangan', 'menimbulkan', 'lonjakan', 'kasus', 'covid'], ['sulhan', 'merasa', 'geram', 'pilkades', 'muncul', 'kabar', 'sedap', 'diduga', 'kubu', 'lawan', 'berisi', 'fitnah', 'memojokkan', 'dirinya'], ['kamis', 'pagi', 'terjadi', 'kali', 'gempa', 'berskala', 'kecil', 'wilayah', 'salatiga', 'kabupaten', 'semarang', 'kedalaman', 'gempa', 'kilometer'], ['ssaat', 'memilih', 'lantai', 'dapur', 'diperhatikan', 'perawatan', 'ketahanannya', 'berikut', 'beberapa', 'pilihannya'], ['produksi', 'ipad', 'terpantau', 'merosot', 'hingga', 'persen', 'sepanjang', 'september', 'oktober', 'pemesan', 'ipad', 'menerima', 'unitnya', 'terlambat'], ['hari', 'tahun', 'lalu', 'grand', 'oldman', 'haji', 'agus', 'salim', 'tutup', 'usia', 'november'], ['ivan', 'gunawan', 'tampak', 'terkejut', 'gembira', 'celana', 'jeans', 'ukuran', 'kini', 'muat', 'kakinya'], ['komandan', 'senior', 'taliban', 'hamdullah', 'mokhlis', 'tewas', 'bertempur', 'melawan', 'isis', 'sebuah', 'rumah', 'sakit', 'afghanistan'], ['menko', 'marves', 'luhut', 'binsar', 'pandjaitan', 'mengklaim', 'dirinya', 'pernah', 'sedikit', 'mengambil', 'keuntungan', 'pribadi', 'bisnis', 'dijalankan', 'genomik', 'solidaritas', 'indonesia', 'money', 'jernihkanharapan'], ['beberapa', 'aturan', 'perjalanan', 'diubah', 'jangka', 'waktu', 'relatif', 'singkat', 'dinilai', 'membingungkan'], ['kremlin', 'membantah', 'rusia', 'serius', 'menangani', 'perubahan', 'iklim', 'presiden', 'vladimir', 'putin', 'hadir', 'glasgow'], ['rossa', 'raffi', 'ahmad', 'tyna', 'kanna', 'mirdad', 'niko', 'hakim', 'sederet', 'selebgram', 'memberikan', 'dukungan', 'rachel', 'vennya'], ['bank', 'indonesia', 'mulai', 'mengimplementasikan', 'fast', 'payment', 'tahap', 'pertama', 'pekan', 'kedua', 'desember', 'tahun'], ['liverpool', 'dipastikan', 'lolos', 'babak', 'besar', 'liga', 'champions', 'juara', 'grup', 'berikut', 'klasemen', 'lengkap', 'liga', 'champions'], ['robert', 'lewandowski', 'dinilai', 'pantas', 'menyabet', 'penghargaan', 'ballon'], ['cara', 'membuat', 'nasi', 'udang', 'resep', 'jualan']]\n"
          ]
        },
        {
          "data": {
            "text/plain": [
              "101"
            ]
          },
          "execution_count": 54,
          "metadata": {},
          "output_type": "execute_result"
        }
      ],
      "source": [
        "#slang word untuk kata baku\n",
        "path_dataslang = open(\"kamus kata baku 1.csv\")\n",
        "dataslang = pd.read_csv(path_dataslang, encoding = 'utf-8', header=None, sep=\";\")\n",
        "\n",
        "def replaceSlang(word):\n",
        "  if word in list(dataslang[0]):\n",
        "    indexslang = list(dataslang[0]).index(word)\n",
        "    return dataslang[1][indexslang]\n",
        "  else:\n",
        "    return word\n",
        "\n",
        "ulasan_formal = []\n",
        "for data in ulasan_bersih:\n",
        "  data_clean = [replaceSlang(word) for word in data]\n",
        "  ulasan_formal.append(data_clean)\n",
        "len_ulasan_formal = len(ulasan_formal)\n",
        "print(ulasan_formal)\n",
        "len_ulasan_formal"
      ]
    },
    {
      "cell_type": "markdown",
      "metadata": {
        "id": "dUZiKWM5ud-b"
      },
      "source": [
        "#stemming"
      ]
    },
    {
      "cell_type": "code",
      "execution_count": null,
      "metadata": {
        "colab": {
          "base_uri": "https://localhost:8080/"
        },
        "id": "YZBXPHI6sjf-",
        "outputId": "29724470-8862-486b-febe-6421a1caf01a"
      },
      "outputs": [
        {
          "name": "stdout",
          "output_type": "stream",
          "text": [
            "[['fakta', 'gagal', 'jantung', 'mulai', 'tips', 'hindar', 'jenis', 'alami', 'orang', 'muda', 'hingga', 'ritual', 'korban', 'manusia', 'kuno'], ['kemenhub', 'laku', 'atur', 'baru', 'jalan', 'udara', 'domestik'], ['ikut', 'daftar', 'maupun', 'masuk', 'peringkat', 'asia', 'university', 'rankings'], ['rektor', 'jamal', 'sangat', 'sesal', 'jadi', 'peristiwa', 'tinggal', 'gilang', 'menwa', 'jadi', 'harap', 'semua', 'kalang'], ['aksi', 'november', 'ikut', 'lebih', 'buruh', 'pabrik', 'provinsi', 'lebih', 'kabupaten', 'kota', 'kata', 'said'], ['buka', 'musabaqah', 'tilawatil', 'quran', 'jawa', 'timur', 'xxix', 'gelar', 'depan', 'kantor', 'bakorwil', 'pamekasan', 'rabu', 'malam'], ['perkara', 'sangkut', 'duga', 'gelap', 'pajero', 'awal', 'masuk', 'gugat', 'perdata'], ['dala', 'praktik', 'life', 'jacket', 'pernah', 'pakai', 'tumpang', 'maupun', 'awak', 'kapal', 'kata', 'kepala', 'dinas', 'hubung', 'provinsi', 'jawa', 'timur', 'nyono'], ['konsumsi', 'bahan', 'makan', 'hewani', 'bagi', 'vegetarian', 'pilih', 'makan', 'bawang'], ['teliti', 'ungkap', 'gerak', 'lima', 'menit', 'sekali', 'cegah', 'dampak', 'negatif', 'kurang', 'aktif', 'gerak'], ['awal', 'warga', 'curiga', 'mobil', 'parkir', 'lama', 'pinggir', 'jalan', 'nyata', 'kemudi', 'tinggal'], ['facebook', 'anggap', 'jadi', 'usaha', 'jejaring', 'sosial', 'masalah', 'sama', 'bila', 'ombak', 'level', 'pimpin'], ['walaupun', 'guna', 'aplikasi', 'pedulilindungi', 'periksa', 'kartu', 'vaksin', 'wisatawan', 'imbau', 'patuh', 'prokes'], ['update', 'harga', 'bahan', 'bakar', 'minyak', 'november', 'shell', 'alami', 'naik', 'pertamina', 'tetap'], ['hasil', 'investigasi', 'pentagon', 'nyata', 'serang', 'drone', 'salah', 'sasar', 'tewas', 'warga', 'sipil', 'afghanistan', 'langgar', 'hukum'], ['jangan', 'sembarang', 'sesap', 'kopi', 'baik', 'pilih', 'jenis', 'kopi', 'paling', 'sesuai', 'kondisi', 'tubuh', 'kafein', 'cedera', 'lambung', 'saraf'], ['wendi', 'cagur', 'sempat', 'usir', 'anak', 'dekat', 'kiky', 'saputri', 'semua', 'awal', 'video', 'joget', 'bareng', 'wendi', 'kiky', 'saputri'], ['indeks', 'harga', 'saham', 'gabung', 'ihsg', 'gerak', 'zona', 'hijau', 'awal', 'dagang', 'bursa', 'efek', 'indonesia', 'kamis'], ['pusat', 'balai', 'kota', 'pemda', 'estimasi', 'jumlah', 'massa', 'buruh', 'ikut', 'protokol', 'sehat'], ['video', 'sebut', 'lihat', 'nikita', 'cinta', 'akan', 'tengah', 'dapat', 'soal', 'cara', 'pakai', 'etika'], ['gadot', 'sedang', 'diskusi', 'akhir', 'didapuk', 'peran', 'karakter', 'ratu', 'jahat', 'live', 'action', 'snow', 'white'], ['greenwashing', 'guna', 'sebut', 'usaha', 'klaim', 'lindung', 'lingkung', 'waktu', 'sama', 'terus', 'rusak'], ['heboh', 'salam', 'binjai', 'jumlah', 'anak', 'anak', 'daerah', 'ikut', 'rusak', 'pohon', 'pisang', 'polisi', 'minta', 'orangtua', 'ikut', 'awas', 'giat', 'anak', 'anak'], ['blokir', 'pihak', 'bank', 'sama', 'sekali', 'beri', 'jelas', 'alas', 'rekening', 'klien', 'blokir', 'jelas', 'kuasa', 'hukum', 'dewi', 'ratna', 'indah'], ['laku', 'cabul', 'anak', 'tahun', 'pontianak', 'rata', 'rata', 'usia', 'tahun', 'usia', 'tahun', 'tahun'], ['warna', 'dinding', 'rumah', 'nyata', 'mampu', 'pengaruh', 'suasana', 'hati', 'emosi', 'perilaku'], ['walaupun', 'guna', 'aplikasi', 'pedulilindungi', 'periksa', 'kartu', 'vaksin', 'wisatawan', 'imbau', 'patuh', 'prokes'], ['resep', 'bakpao', 'ungu', 'empuk', 'lembut', 'kembang', 'kamu', 'buat', 'mudah', 'rumah', 'pakai', 'kacang', 'mete', 'biji', 'wijen'], ['door', 'visor', 'kerap', 'sebut', 'talang', 'rupa', 'aksesori', 'guna', 'milik', 'mobil'], ['facebook', 'anggap', 'jadi', 'usaha', 'jejaring', 'sosial', 'masalah', 'sama', 'bila', 'ombak', 'level', 'pimpin'], ['skuad', 'indonesia', 'piala', 'thomas', 'rupa', 'generasi', 'emas', 'sukses', 'wujud', 'mimpi', 'bawa', 'pulang', 'trofi', 'sebut'], ['laga', 'sela', 'sela', 'bandung', 'jadwal', 'langsung', 'stadion', 'maguwoharjo', 'sleman', 'yogyakarta', 'kamis', 'pukul'], ['polda', 'metro', 'jaya', 'tetap', 'rachel', 'vennya', 'tiga', 'orang', 'ikut', 'libat', 'kasus', 'sebut', 'sangka'], ['dinas', 'sehat', 'provinsi', 'jakarta', 'beri', 'edukasi', 'orangtua', 'penting', 'vaksinasi', 'covid', 'anak', 'usia', 'tahun'], ['idap', 'kanker', 'prostat', 'jalan', 'awat', 'bagaimana', 'atur', 'awat', 'mantan', 'presiden'], ['presiden', 'joko widodo', 'masuk', 'jajar', 'tokoh', 'muslim', 'paling', 'pengaruh', 'tahun', 'seluruh', 'dunia', 'joko widodo', 'tokoh', 'muslim', 'paling', 'pengaruh', 'indonesia', 'tren', 'jernihkanharapan'], ['beri', 'vaksin', 'sinovac', 'usia', 'tahun', 'izin', 'indonesia', 'ikut', 'fakta', 'fakta', 'kena', 'guna', 'vaksin', 'anak', 'anak'], ['buah', 'drama', 'remaja', 'adaptasi', 'novel', 'laris', 'judul', 'sama'], ['staf', 'ahli', 'menteri', 'uang', 'bidang', 'patuh', 'pajak', 'arsal', 'kata', 'pihak', 'diskusi', 'instrumen', 'tepat', 'stakeholder', 'kait'], ['siap', 'diri', 'berani', 'hadap', 'tantang', 'menang', 'segala', 'situasi', 'pimpin'], ['rawat', 'lansia', 'kerja', 'berat', 'antara', 'berat', 'butuh', 'support', 'publik', 'manusia', 'tinggal', 'sampah', 'kolong', 'jembatan', 'kata', 'arif', 'camra', 'regional', 'jernihkanharapan'], ['satu', 'faktor', 'jadi', 'sebab', 'orang', 'sulit', 'tidur', 'desain', 'kamar', 'tidur'], ['sewa', 'rumah', 'orang', 'wajib', 'asuransi', 'properti', 'laku', 'renovasi', 'tentu', 'harga', 'sewa', 'rumah', 'tepat'], ['akhir', 'batu', 'bara', 'depan', 'mata', 'kata', 'menteri', 'bisnis', 'energi', 'inggris', 'kwasi', 'kwarteng'], ['tuding', 'mula', 'edar', 'potong', 'video', 'deddy', 'corbuzier', 'media', 'sosial', 'kata', 'tamu', 'siar', 'podcast', 'minta', 'bayar'], ['tetap', 'sangka', 'sidik', 'direktorat', 'reserse', 'kriminal', 'umum', 'ditreskrimum', 'polda', 'metro', 'jaya', 'helat', 'gelar', 'perkara'], ['jenis', 'sakit', 'jantung', 'alami', 'orang', 'muda', 'bawah', 'usia', 'tahun', 'mulai', 'gagal', 'jantung', 'serang', 'jantung', 'kardiomiopati'], ['cukup', 'fokus', 'salah', 'satu', 'kabupaten', 'angka', 'mati', 'bayi', 'tinggi', 'kerja', 'tuntas', 'baru', 'alih', 'program', 'kabupaten'], ['ridwan', 'kamil', 'sampai', 'dunia', 'sungai', 'citarum', 'buruk'], ['orang', 'tahan', 'kasus', 'narkoba', 'kabur', 'polresta', 'pekanbaru', 'lompat', 'lantai', 'kabur', 'bantu', 'istri', 'adik', 'keponakan', 'teman'], ['meski', 'bukan', 'tanam', 'rentan', 'serang', 'hama', 'serangga', 'tutup', 'mungkin', 'infestasi', 'hama', 'jadi', 'tanam', 'pakis', 'boston'], ['kadar', 'kolesterol', 'jahat', 'tubuh', 'turun', 'coba', 'laku', 'empat', 'olahraga', 'ikut', 'jogging', 'renang', 'sepeda', 'yoga'], ['anak', 'makan', 'lebih', 'banyak', 'buah', 'sayur', 'milik', 'sehat', 'mental', 'lebih', 'baik'], ['terap', 'penuh', 'gardu', 'guna', 'bakal', 'hubung', 'satelit', 'proses', 'bayar'], ['korban', 'dapat', 'awat', 'ruang', 'rawat', 'inap', 'belum', 'tangan', 'instalasi', 'gawat', 'darurat', 'kuningan'], ['pemprov', 'awal', 'umum', 'menerapkani', 'tilang', 'kendara', 'motor', 'lulus', 'emisi', 'mulai', 'november', 'tunda'], ['kemenkeu', 'optimistis', 'target', 'terima', 'pajak', 'tahun', 'dekat', 'target', 'triliun', 'apbn'], ['sangat', 'harap', 'mulia', 'terima', 'undang'], ['sisi', 'gonta', 'ganti', 'atur', 'waktu', 'singkat', 'timbul', 'bingung', 'masyarakat', 'tren', 'jernihkanharapan'], ['lebih', 'empat', 'staf', 'angeles', 'county', 'sheriff', 'departemen', 'sheriff', 'besar', 'ancam', 'pecat', 'tolak', 'vaksin'], ['serius', 'jalan', 'hubung', 'jessica', 'iskandar', 'vincent', 'pernah', 'tegas', 'soal', 'uang', 'jessica'], ['arab', 'saudi', 'tuju', 'guna', 'vaksin', 'anak', 'tahun', 'vaksinasi', 'covid', 'anak', 'mulai'], ['rumput', 'spesial', 'butuh', 'awat', 'ekstra', 'jakpro', 'enggan', 'guna', 'pestisida', 'pilih', 'guna', 'cara', 'alami', 'manfaat', 'burung', 'kaki', 'bayam', 'megapolitan'], ['aktor', 'daniel', 'didapuk', 'peran', 'tokoh', 'raja', 'ozai', 'avatar', 'last', 'airbender', 'serial', 'live', 'action', 'adaptasi', 'netflix'], ['kerangka', 'john', 'usia', 'juta', 'tahun', 'panjang', 'delapan', 'meter', 'orang', 'kolektor', 'amerika', 'serikat'], ['china', 'serang', 'taiwan', 'waktu', 'dekat', 'meski', 'militer', 'kembang', 'mampu', 'mungkin', 'rebut', 'pulau', 'sebut'], ['babak', 'alias', 'besar', 'hylo', 'open', 'gulir', 'hari', 'kamis', 'saarlandhalle', 'saarbruecken', 'jerman'], ['perintah', 'kota', 'medan', 'yakin', 'jadi', 'destinasi', 'wisata', 'garstronomi', 'wisata', 'kuliner'], ['kucing', 'bulu', 'hasil', 'mutasi', 'genetik', 'hilang', 'bulu', 'lindung'], ['gejala', 'bronkitis', 'kronis', 'penting', 'nali', 'dukung', 'upaya', 'diag'], ['alih', 'alih', 'pandang', 'buruk', 'pasang', 'laku', 'tindak', 'keras', 'wanita', 'justru', 'coba', 'ubah', 'diri', 'bahagia'], ['banyak', 'ubah', 'alami', 'orang', 'perempuan', 'jadi', 'masuk', 'antara', 'ubah', 'tuju', 'hidup'], ['bocah', 'tahun', 'brebes', 'jawa', 'tengah', 'hampir', 'bulan', 'baring', 'lemas', 'uang', 'koin', 'orangtuanya', 'biaya', 'operasi'], ['jelang', 'akhir', 'tahun', 'curah', 'hujan', 'tinggi', 'mulai', 'guyur', 'beberapa', 'kawasan', 'wilayah', 'indonesia'], ['direktorat', 'jenderal', 'pajak', 'menteri', 'uang', 'kejar', 'kemplang', 'pajak', 'hingga', 'luar', 'negeri'], ['tunjuk', 'andika', 'jadi', 'calon', 'tunggal', 'panglima', 'dapat', 'dukung', 'jumlah', 'pihak', 'antara', 'menhan', 'prabowo', 'subianto'], ['banyak', 'beri', 'sindir', 'atas', 'komentar', 'rossa', 'anggap', 'dukung', 'rachel', 'berani', 'minta', 'maaf', 'hype'], ['ihsg', 'proyeksi', 'kuat', 'kamis', 'ihsg', 'rabu', 'tutup', 'positif', 'level', 'naik', 'poin', 'persen'], ['lihat', 'benar', 'balik', 'zero', 'ramah', 'lingkung'], ['panjang', 'waktu', 'operasional', 'sebut', 'iring', 'longgar', 'bijak', 'perintah', 'kait', 'terap', 'batas', 'giat', 'masyarakat', 'ppkm'], ['banyak', 'faktor', 'pengaruh', 'kondisi', 'sakit', 'satu', 'stres', 'jadi', 'salah', 'satu', 'picu', 'besar', 'eksim', 'lifestyle'], ['indonesia', 'persero', 'sedang', 'buka', 'lowong', 'kerja', 'lulus'], ['dokter', 'ungkap', 'pasien', 'autoimun', 'kulit', 'vaksinasi', 'covid', 'asal', 'penuh', 'syarat', 'syarat', 'tentu'], ['target', 'sebut', 'patok', 'dinkes', 'kota', 'depok', 'laksana', 'giat', 'bulan', 'imunisasi', 'anak', 'sekolah', 'bias', 'november', 'hingga', 'desember'], ['polisi', 'langsung', 'terap', 'sanksi', 'tilang', 'jumlah', 'kendara', 'lolos', 'emisi', 'sangat', 'sedikit'], ['libur', 'nataru', 'selalu', 'identik', 'mobilitas', 'masyarakat', 'jangan', 'timbul', 'lonjak', 'kasus', 'covid'], ['sulhan', 'rasa', 'geram', 'pilkades', 'muncul', 'kabar', 'sedap', 'duga', 'kubu', 'lawan', 'fitnah', 'pojok', 'diri'], ['kamis', 'pagi', 'jadi', 'kali', 'gempa', 'skala', 'kecil', 'wilayah', 'salatiga', 'kabupaten', 'semarang', 'dalam', 'gempa', 'kilometer'], ['ssaat', 'pilih', 'lantai', 'dapur', 'perhati', 'awat', 'tahan', 'ikut', 'beberapa', 'pilih'], ['produksi', 'ipad', 'pantau', 'merosot', 'hingga', 'persen', 'panjang', 'september', 'oktober', 'ipad', 'terima', 'unit', 'lambat'], ['hari', 'tahun', 'lalu', 'grand', 'oldman', 'haji', 'agus', 'salim', 'tutup', 'usia', 'november'], ['ivan', 'gunawan', 'tampak', 'kejut', 'gembira', 'celana', 'jeans', 'ukur', 'kini', 'muat', 'kaki'], ['komandan', 'senior', 'talib', 'hamdullah', 'mokhlis', 'tewas', 'tempur', 'lawan', 'isis', 'buah', 'rumah', 'sakit', 'afghanistan'], ['menko', 'marves', 'luhut', 'binsar', 'pandjaitan', 'klaim', 'diri', 'pernah', 'sedikit', 'ambil', 'untung', 'pribadi', 'bisnis', 'jalan', 'genomik', 'solidaritas', 'indonesia', 'money', 'jernihkanharapan'], ['beberapa', 'atur', 'jalan', 'ubah', 'jangka', 'waktu', 'relatif', 'singkat', 'nilai', 'bingung'], ['kremlin', 'rusia', 'serius', 'tangan', 'ubah', 'iklim', 'presiden', 'vladimir', 'putin', 'hadir', 'glasgow'], ['rossa', 'raffi', 'ahmad', 'tyna', 'kanna', 'mirdad', 'niko', 'hakim', 'deret', 'selebgram', 'beri', 'dukung', 'rachel', 'vennya'], ['bank', 'indonesia', 'mulai', 'implementasi', 'fast', 'payment', 'tahap', 'pertama', 'pekan', 'desember', 'tahun'], ['liverpool', 'pasti', 'lolos', 'babak', 'besar', 'liga', 'champions', 'juara', 'grup', 'ikut', 'klasemen', 'lengkap', 'liga', 'champions'], ['robert', 'lewandowski', 'nilai', 'pantas', 'sabet', 'harga', 'ballon'], ['cara', 'buat', 'nasi', 'udang', 'resep', 'jual']]\n"
          ]
        }
      ],
      "source": [
        "#hilang kata imbuh \n",
        "#white_list = [\"fakta\"]\n",
        "\n",
        "factory = StemmerFactory()\n",
        "ind_stemmer = factory.create_stemmer()\n",
        "def stemmer(line):\n",
        "  temp = list()\n",
        "  for word in line:\n",
        "    if(word not in white_list):\n",
        "      word = ind_stemmer.stem(word)\n",
        "    if(len(word)>3):\n",
        "      temp.append(word)\n",
        "  return temp\n",
        "\n",
        "ulasan_tweet = [stemmer (line) for line in ulasan_formal]\n",
        "print(ulasan_tweet)"
      ]
    },
    {
      "cell_type": "code",
      "execution_count": null,
      "metadata": {
        "colab": {
          "base_uri": "https://localhost:8080/"
        },
        "id": "Y1tPm6BFzqX8",
        "outputId": "50c78822-e91f-4c49-9d01-f7cff3f2cda2"
      },
      "outputs": [
        {
          "name": "stdout",
          "output_type": "stream",
          "text": [
            "['fakta gagal jantung mulai tips hindar jenis alami orang muda hingga ritual korban manusia kuno', 'kemenhub laku atur baru jalan udara domestik', 'ikut daftar maupun masuk peringkat asia university rankings', 'rektor jamal sangat sesal jadi peristiwa tinggal gilang menwa jadi harap semua kalang', 'aksi november ikut lebih buruh pabrik provinsi lebih kabupaten kota kata said', 'buka musabaqah tilawatil quran jawa timur xxix gelar depan kantor bakorwil pamekasan rabu malam', 'perkara sangkut duga gelap pajero awal masuk gugat perdata', 'dala praktik life jacket pernah pakai tumpang maupun awak kapal kata kepala dinas hubung provinsi jawa timur nyono', 'konsumsi bahan makan hewani bagi vegetarian pilih makan bawang', 'teliti ungkap gerak lima menit sekali cegah dampak negatif kurang aktif gerak', 'awal warga curiga mobil parkir lama pinggir jalan nyata kemudi tinggal', 'facebook anggap jadi usaha jejaring sosial masalah sama bila ombak level pimpin', 'walaupun guna aplikasi pedulilindungi periksa kartu vaksin wisatawan imbau patuh prokes', 'update harga bahan bakar minyak november shell alami naik pertamina tetap', 'hasil investigasi pentagon nyata serang drone salah sasar tewas warga sipil afghanistan langgar hukum', 'jangan sembarang sesap kopi baik pilih jenis kopi paling sesuai kondisi tubuh kafein cedera lambung saraf', 'wendi cagur sempat usir anak dekat kiky saputri semua awal video joget bareng wendi kiky saputri', 'indeks harga saham gabung ihsg gerak zona hijau awal dagang bursa efek indonesia kamis', 'pusat balai kota pemda estimasi jumlah massa buruh ikut protokol sehat', 'video sebut lihat nikita cinta akan tengah dapat soal cara pakai etika', 'gadot sedang diskusi akhir didapuk peran karakter ratu jahat live action snow white', 'greenwashing guna sebut usaha klaim lindung lingkung waktu sama terus rusak', 'heboh salam binjai jumlah anak anak daerah ikut rusak pohon pisang polisi minta orangtua ikut awas giat anak anak', 'blokir pihak bank sama sekali beri jelas alas rekening klien blokir jelas kuasa hukum dewi ratna indah', 'laku cabul anak tahun pontianak rata rata usia tahun usia tahun tahun', 'warna dinding rumah nyata mampu pengaruh suasana hati emosi perilaku', 'walaupun guna aplikasi pedulilindungi periksa kartu vaksin wisatawan imbau patuh prokes', 'resep bakpao ungu empuk lembut kembang kamu buat mudah rumah pakai kacang mete biji wijen', 'door visor kerap sebut talang rupa aksesori guna milik mobil', 'facebook anggap jadi usaha jejaring sosial masalah sama bila ombak level pimpin', 'skuad indonesia piala thomas rupa generasi emas sukses wujud mimpi bawa pulang trofi sebut', 'laga sela sela bandung jadwal langsung stadion maguwoharjo sleman yogyakarta kamis pukul', 'polda metro jaya tetap rachel vennya tiga orang ikut libat kasus sebut sangka', 'dinas sehat provinsi jakarta beri edukasi orangtua penting vaksinasi covid anak usia tahun', 'idap kanker prostat jalan awat bagaimana atur awat mantan presiden', 'presiden joko widodo masuk jajar tokoh muslim paling pengaruh tahun seluruh dunia joko widodo tokoh muslim paling pengaruh indonesia tren jernihkanharapan', 'beri vaksin sinovac usia tahun izin indonesia ikut fakta fakta kena guna vaksin anak anak', 'buah drama remaja adaptasi novel laris judul sama', 'staf ahli menteri uang bidang patuh pajak arsal kata pihak diskusi instrumen tepat stakeholder kait', 'siap diri berani hadap tantang menang segala situasi pimpin', 'rawat lansia kerja berat antara berat butuh support publik manusia tinggal sampah kolong jembatan kata arif camra regional jernihkanharapan', 'satu faktor jadi sebab orang sulit tidur desain kamar tidur', 'sewa rumah orang wajib asuransi properti laku renovasi tentu harga sewa rumah tepat', 'akhir batu bara depan mata kata menteri bisnis energi inggris kwasi kwarteng', 'tuding mula edar potong video deddy corbuzier media sosial kata tamu siar podcast minta bayar', 'tetap sangka sidik direktorat reserse kriminal umum ditreskrimum polda metro jaya helat gelar perkara', 'jenis sakit jantung alami orang muda bawah usia tahun mulai gagal jantung serang jantung kardiomiopati', 'cukup fokus salah satu kabupaten angka mati bayi tinggi kerja tuntas baru alih program kabupaten', 'ridwan kamil sampai dunia sungai citarum buruk', 'orang tahan kasus narkoba kabur polresta pekanbaru lompat lantai kabur bantu istri adik keponakan teman', 'meski bukan tanam rentan serang hama serangga tutup mungkin infestasi hama jadi tanam pakis boston', 'kadar kolesterol jahat tubuh turun coba laku empat olahraga ikut jogging renang sepeda yoga', 'anak makan lebih banyak buah sayur milik sehat mental lebih baik', 'terap penuh gardu guna bakal hubung satelit proses bayar', 'korban dapat awat ruang rawat inap belum tangan instalasi gawat darurat kuningan', 'pemprov awal umum menerapkani tilang kendara motor lulus emisi mulai november tunda', 'kemenkeu optimistis target terima pajak tahun dekat target triliun apbn', 'sangat harap mulia terima undang', 'sisi gonta ganti atur waktu singkat timbul bingung masyarakat tren jernihkanharapan', 'lebih empat staf angeles county sheriff departemen sheriff besar ancam pecat tolak vaksin', 'serius jalan hubung jessica iskandar vincent pernah tegas soal uang jessica', 'arab saudi tuju guna vaksin anak tahun vaksinasi covid anak mulai', 'rumput spesial butuh awat ekstra jakpro enggan guna pestisida pilih guna cara alami manfaat burung kaki bayam megapolitan', 'aktor daniel didapuk peran tokoh raja ozai avatar last airbender serial live action adaptasi netflix', 'kerangka john usia juta tahun panjang delapan meter orang kolektor amerika serikat', 'china serang taiwan waktu dekat meski militer kembang mampu mungkin rebut pulau sebut', 'babak alias besar hylo open gulir hari kamis saarlandhalle saarbruecken jerman', 'perintah kota medan yakin jadi destinasi wisata garstronomi wisata kuliner', 'kucing bulu hasil mutasi genetik hilang bulu lindung', 'gejala bronkitis kronis penting nali dukung upaya diag', 'alih alih pandang buruk pasang laku tindak keras wanita justru coba ubah diri bahagia', 'banyak ubah alami orang perempuan jadi masuk antara ubah tuju hidup', 'bocah tahun brebes jawa tengah hampir bulan baring lemas uang koin orangtuanya biaya operasi', 'jelang akhir tahun curah hujan tinggi mulai guyur beberapa kawasan wilayah indonesia', 'direktorat jenderal pajak menteri uang kejar kemplang pajak hingga luar negeri', 'tunjuk andika jadi calon tunggal panglima dapat dukung jumlah pihak antara menhan prabowo subianto', 'banyak beri sindir atas komentar rossa anggap dukung rachel berani minta maaf hype', 'ihsg proyeksi kuat kamis ihsg rabu tutup positif level naik poin persen', 'lihat benar balik zero ramah lingkung', 'panjang waktu operasional sebut iring longgar bijak perintah kait terap batas giat masyarakat ppkm', 'banyak faktor pengaruh kondisi sakit satu stres jadi salah satu picu besar eksim lifestyle', 'indonesia persero sedang buka lowong kerja lulus', 'dokter ungkap pasien autoimun kulit vaksinasi covid asal penuh syarat syarat tentu', 'target sebut patok dinkes kota depok laksana giat bulan imunisasi anak sekolah bias november hingga desember', 'polisi langsung terap sanksi tilang jumlah kendara lolos emisi sangat sedikit', 'libur nataru selalu identik mobilitas masyarakat jangan timbul lonjak kasus covid', 'sulhan rasa geram pilkades muncul kabar sedap duga kubu lawan fitnah pojok diri', 'kamis pagi jadi kali gempa skala kecil wilayah salatiga kabupaten semarang dalam gempa kilometer', 'ssaat pilih lantai dapur perhati awat tahan ikut beberapa pilih', 'produksi ipad pantau merosot hingga persen panjang september oktober ipad terima unit lambat', 'hari tahun lalu grand oldman haji agus salim tutup usia november', 'ivan gunawan tampak kejut gembira celana jeans ukur kini muat kaki', 'komandan senior talib hamdullah mokhlis tewas tempur lawan isis buah rumah sakit afghanistan', 'menko marves luhut binsar pandjaitan klaim diri pernah sedikit ambil untung pribadi bisnis jalan genomik solidaritas indonesia money jernihkanharapan', 'beberapa atur jalan ubah jangka waktu relatif singkat nilai bingung', 'kremlin rusia serius tangan ubah iklim presiden vladimir putin hadir glasgow', 'rossa raffi ahmad tyna kanna mirdad niko hakim deret selebgram beri dukung rachel vennya', 'bank indonesia mulai implementasi fast payment tahap pertama pekan desember tahun', 'liverpool pasti lolos babak besar liga champions juara grup ikut klasemen lengkap liga champions', 'robert lewandowski nilai pantas sabet harga ballon', 'cara buat nasi udang resep jual']\n",
            "101\n"
          ]
        }
      ],
      "source": [
        "from sklearn.feature_extraction.text import CountVectorizer\n",
        "import numpy as np\n",
        "\n",
        "gabung = [[' '.join(i)] for i in ulasan_tweet]\n",
        "kalimat = [' '.join(i) for i in ulasan_tweet]\n",
        "print(kalimat)\n",
        "print(len(kalimat))"
      ]
    },
    {
      "cell_type": "markdown",
      "metadata": {
        "id": "iJnYwbscvHPo"
      },
      "source": [
        "#n-gram\n"
      ]
    },
    {
      "cell_type": "code",
      "execution_count": null,
      "metadata": {
        "colab": {
          "base_uri": "https://localhost:8080/"
        },
        "id": "GGCtRyYbsw7R",
        "outputId": "e9cad2c8-3cbe-4417-cec0-072451cc045c"
      },
      "outputs": [
        {
          "name": "stdout",
          "output_type": "stream",
          "text": [
            "[nltk_data] Downloading package stopwords to /root/nltk_data...\n",
            "[nltk_data]   Package stopwords is already up-to-date!\n",
            "[nltk_data] Downloading package wordnet to /root/nltk_data...\n",
            "[nltk_data]   Package wordnet is already up-to-date!\n"
          ]
        }
      ],
      "source": [
        "import nltk\n",
        "nltk.download('stopwords')\n",
        "nltk.download('wordnet')\n",
        "from nltk.corpus import stopwords\n",
        "from nltk.stem.porter import PorterStemmer\n",
        "from nltk.stem.snowball import SnowballStemmer\n",
        "from nltk.stem.wordnet import WordNetLemmatizer\n",
        "import pandas as pd\n",
        "import re"
      ]
    },
    {
      "cell_type": "code",
      "execution_count": null,
      "metadata": {
        "colab": {
          "base_uri": "https://localhost:8080/"
        },
        "id": "o6zLnBRl3-VM",
        "outputId": "99fdc957-c244-44e7-ea4e-15d6450f6912"
      },
      "outputs": [
        {
          "name": "stdout",
          "output_type": "stream",
          "text": [
            "784\n"
          ]
        }
      ],
      "source": [
        "# set_of_words = set()\n",
        "# for sentence in kalimat:\n",
        "#    for word in sentence.split():\n",
        "#        set_of_words.add(word)\n",
        "# vocab = list(set_of_words)\n",
        "# print(len(vocab))"
      ]
    },
    {
      "cell_type": "code",
      "execution_count": null,
      "metadata": {
        "id": "KiYpED7p_znc"
      },
      "outputs": [],
      "source": [
        "vectorizer = CountVectorizer()\n",
        "bow_matrix = vectorizer.fit_transform(kalimat)"
      ]
    },
    {
      "cell_type": "code",
      "execution_count": null,
      "metadata": {
        "id": "Q1a6KI4u-jP5"
      },
      "outputs": [],
      "source": [
        "vectorizer_ngram_range = CountVectorizer(analyzer='word',ngram_range=(1,3))\n",
        "bow_matrix_ngram = vectorizer_ngram_range.fit_transform(kalimat)"
      ]
    },
    {
      "cell_type": "code",
      "execution_count": null,
      "metadata": {
        "colab": {
          "base_uri": "https://localhost:8080/"
        },
        "id": "zzbmE_uGvJpx",
        "outputId": "fcf762d6-7970-4453-e999-944cb03c42b1"
      },
      "outputs": [
        {
          "name": "stdout",
          "output_type": "stream",
          "text": [
            "['action', 'action adaptasi', 'action adaptasi netflix', 'action snow', 'action snow white', 'adaptasi', 'adaptasi netflix', 'adaptasi novel', 'adaptasi novel laris', 'adik', 'adik keponakan', 'adik keponakan teman', 'afghanistan', 'afghanistan langgar', 'afghanistan langgar hukum', 'agus', 'agus salim', 'agus salim tutup', 'ahli', 'ahli menteri', 'ahli menteri uang', 'ahmad', 'ahmad tyna', 'ahmad tyna kanna', 'airbender', 'airbender serial', 'airbender serial live', 'akan', 'akan tengah', 'akan tengah dapat', 'akhir', 'akhir batu', 'akhir batu bara', 'akhir didapuk', 'akhir didapuk peran', 'akhir tahun', 'akhir tahun curah', 'aksesori', 'aksesori guna', 'aksesori guna milik', 'aksi', 'aksi november', 'aksi november ikut', 'aktif', 'aktif gerak', 'aktor', 'aktor daniel', 'aktor daniel didapuk', 'alami', 'alami manfaat', 'alami manfaat burung', 'alami naik', 'alami naik pertamina', 'alami orang', 'alami orang muda', 'alami orang perempuan', 'alas', 'alas rekening', 'alas rekening klien', 'alias', 'alias besar', 'alias besar hylo', 'alih', 'alih alih', 'alih alih pandang', 'alih pandang', 'alih pandang buruk', 'alih program', 'alih program kabupaten', 'ambil', 'ambil untung', 'ambil untung pribadi', 'amerika', 'amerika serikat', 'anak', 'anak anak', 'anak anak daerah', 'anak daerah', 'anak daerah ikut', 'anak dekat', 'anak dekat kiky', 'anak makan', 'anak makan lebih', 'anak mulai', 'anak sekolah', 'anak sekolah bias', 'anak tahun', 'anak tahun pontianak', 'anak tahun vaksinasi', 'anak usia', 'anak usia tahun', 'ancam', 'ancam pecat', 'ancam pecat tolak', 'andika', 'andika jadi', 'andika jadi calon', 'angeles', 'angeles county', 'angeles county sheriff', 'anggap', 'anggap dukung', 'anggap dukung rachel', 'anggap jadi', 'anggap jadi usaha', 'angka', 'angka mati', 'angka mati bayi', 'antara', 'antara berat', 'antara berat butuh', 'antara menhan', 'antara menhan prabowo', 'antara ubah', 'antara ubah tuju', 'apbn', 'aplikasi', 'aplikasi pedulilindungi', 'aplikasi pedulilindungi periksa', 'arab', 'arab saudi', 'arab saudi tuju', 'arif', 'arif camra', 'arif camra regional', 'arsal', 'arsal kata', 'arsal kata pihak', 'asal', 'asal penuh', 'asal penuh syarat', 'asia', 'asia university', 'asia university rankings', 'asuransi', 'asuransi properti', 'asuransi properti laku', 'atas', 'atas komentar', 'atas komentar rossa', 'atur', 'atur awat', 'atur awat mantan', 'atur baru', 'atur baru jalan', 'atur jalan', 'atur jalan ubah', 'atur waktu', 'atur waktu singkat', 'autoimun', 'autoimun kulit', 'autoimun kulit vaksinasi', 'avatar', 'avatar last', 'avatar last airbender', 'awak', 'awak kapal', 'awak kapal kata', 'awal', 'awal dagang', 'awal dagang bursa', 'awal masuk', 'awal masuk gugat', 'awal umum', 'awal umum menerapkani', 'awal video', 'awal video joget', 'awal warga', 'awal warga curiga', 'awas', 'awas giat', 'awas giat anak', 'awat', 'awat bagaimana', 'awat bagaimana atur', 'awat ekstra', 'awat ekstra jakpro', 'awat mantan', 'awat mantan presiden', 'awat ruang', 'awat ruang rawat', 'awat tahan', 'awat tahan ikut', 'babak', 'babak alias', 'babak alias besar', 'babak besar', 'babak besar liga', 'bagaimana', 'bagaimana atur', 'bagaimana atur awat', 'bagi', 'bagi vegetarian', 'bagi vegetarian pilih', 'bahagia', 'bahan', 'bahan bakar', 'bahan bakar minyak', 'bahan makan', 'bahan makan hewani', 'baik', 'baik pilih', 'baik pilih jenis', 'bakal', 'bakal hubung', 'bakal hubung satelit', 'bakar', 'bakar minyak', 'bakar minyak november', 'bakorwil', 'bakorwil pamekasan', 'bakorwil pamekasan rabu', 'bakpao', 'bakpao ungu', 'bakpao ungu empuk', 'balai', 'balai kota', 'balai kota pemda', 'balik', 'balik zero', 'balik zero ramah', 'ballon', 'bandung', 'bandung jadwal', 'bandung jadwal langsung', 'bank', 'bank indonesia', 'bank indonesia mulai', 'bank sama', 'bank sama sekali', 'bantu', 'bantu istri', 'bantu istri adik', 'banyak', 'banyak beri', 'banyak beri sindir', 'banyak buah', 'banyak buah sayur', 'banyak faktor', 'banyak faktor pengaruh', 'banyak ubah', 'banyak ubah alami', 'bara', 'bara depan', 'bara depan mata', 'bareng', 'bareng wendi', 'bareng wendi kiky', 'baring', 'baring lemas', 'baring lemas uang', 'baru', 'baru alih', 'baru alih program', 'baru jalan', 'baru jalan udara', 'batas', 'batas giat', 'batas giat masyarakat', 'batu', 'batu bara', 'batu bara depan', 'bawa', 'bawa pulang', 'bawa pulang trofi', 'bawah', 'bawah usia', 'bawah usia tahun', 'bawang', 'bayam', 'bayam megapolitan', 'bayar', 'bayi', 'bayi tinggi', 'bayi tinggi kerja', 'beberapa', 'beberapa atur', 'beberapa atur jalan', 'beberapa kawasan', 'beberapa kawasan wilayah', 'beberapa pilih', 'belum', 'belum tangan', 'belum tangan instalasi', 'benar', 'benar balik', 'benar balik zero', 'berani', 'berani hadap', 'berani hadap tantang', 'berani minta', 'berani minta maaf', 'berat', 'berat antara', 'berat antara berat', 'berat butuh', 'berat butuh support', 'beri', 'beri dukung', 'beri dukung rachel', 'beri edukasi', 'beri edukasi orangtua', 'beri jelas', 'beri jelas alas', 'beri sindir', 'beri sindir atas', 'beri vaksin', 'beri vaksin sinovac', 'besar', 'besar ancam', 'besar ancam pecat', 'besar eksim', 'besar eksim lifestyle', 'besar hylo', 'besar hylo open', 'besar liga', 'besar liga champions', 'bias', 'bias november', 'bias november hingga', 'biaya', 'biaya operasi', 'bidang', 'bidang patuh', 'bidang patuh pajak', 'bijak', 'bijak perintah', 'bijak perintah kait', 'biji', 'biji wijen', 'bila', 'bila ombak', 'bila ombak level', 'bingung', 'bingung masyarakat', 'bingung masyarakat tren', 'binjai', 'binjai jumlah', 'binjai jumlah anak', 'binsar', 'binsar pandjaitan', 'binsar pandjaitan klaim', 'bisnis', 'bisnis energi', 'bisnis energi inggris', 'bisnis jalan', 'bisnis jalan genomik', 'blokir', 'blokir jelas', 'blokir jelas kuasa', 'blokir pihak', 'blokir pihak bank', 'bocah', 'bocah tahun', 'bocah tahun brebes', 'boston', 'brebes', 'brebes jawa', 'brebes jawa tengah', 'bronkitis', 'bronkitis kronis', 'bronkitis kronis penting', 'buah', 'buah drama', 'buah drama remaja', 'buah rumah', 'buah rumah sakit', 'buah sayur', 'buah sayur milik', 'buat', 'buat mudah', 'buat mudah rumah', 'buat nasi', 'buat nasi udang', 'buka', 'buka lowong', 'buka lowong kerja', 'buka musabaqah', 'buka musabaqah tilawatil', 'bukan', 'bukan tanam', 'bukan tanam rentan', 'bulan', 'bulan baring', 'bulan baring lemas', 'bulan imunisasi', 'bulan imunisasi anak', 'bulu', 'bulu hasil', 'bulu hasil mutasi', 'bulu lindung', 'bursa', 'bursa efek', 'bursa efek indonesia', 'buruh', 'buruh ikut', 'buruh ikut protokol', 'buruh pabrik', 'buruh pabrik provinsi', 'buruk', 'buruk pasang', 'buruk pasang laku', 'burung', 'burung kaki', 'burung kaki bayam', 'butuh', 'butuh awat', 'butuh awat ekstra', 'butuh support', 'butuh support publik', 'cabul', 'cabul anak', 'cabul anak tahun', 'cagur', 'cagur sempat', 'cagur sempat usir', 'calon', 'calon tunggal', 'calon tunggal panglima', 'camra', 'camra regional', 'camra regional jernihkanharapan', 'cara', 'cara alami', 'cara alami manfaat', 'cara buat', 'cara buat nasi', 'cara pakai', 'cara pakai etika', 'cedera', 'cedera lambung', 'cedera lambung saraf', 'cegah', 'cegah dampak', 'cegah dampak negatif', 'celana', 'celana jeans', 'celana jeans ukur', 'champions', 'champions juara', 'champions juara grup', 'china', 'china serang', 'china serang taiwan', 'cinta', 'cinta akan', 'cinta akan tengah', 'citarum', 'citarum buruk', 'coba', 'coba laku', 'coba laku empat', 'coba ubah', 'coba ubah diri', 'corbuzier', 'corbuzier media', 'corbuzier media sosial', 'county', 'county sheriff', 'county sheriff departemen', 'covid', 'covid anak', 'covid anak mulai', 'covid anak usia', 'covid asal', 'covid asal penuh', 'cukup', 'cukup fokus', 'cukup fokus salah', 'curah', 'curah hujan', 'curah hujan tinggi', 'curiga', 'curiga mobil', 'curiga mobil parkir', 'daerah', 'daerah ikut', 'daerah ikut rusak', 'daftar', 'daftar maupun', 'daftar maupun masuk', 'dagang', 'dagang bursa', 'dagang bursa efek', 'dala', 'dala praktik', 'dala praktik life', 'dalam', 'dalam gempa', 'dalam gempa kilometer', 'dampak', 'dampak negatif', 'dampak negatif kurang', 'daniel', 'daniel didapuk', 'daniel didapuk peran', 'dapat', 'dapat awat', 'dapat awat ruang', 'dapat dukung', 'dapat dukung jumlah', 'dapat soal', 'dapat soal cara', 'dapur', 'dapur perhati', 'dapur perhati awat', 'darurat', 'darurat kuningan', 'deddy', 'deddy corbuzier', 'deddy corbuzier media', 'dekat', 'dekat kiky', 'dekat kiky saputri', 'dekat meski', 'dekat meski militer', 'dekat target', 'dekat target triliun', 'delapan', 'delapan meter', 'delapan meter orang', 'depan', 'depan kantor', 'depan kantor bakorwil', 'depan mata', 'depan mata kata', 'departemen', 'departemen sheriff', 'departemen sheriff besar', 'depok', 'depok laksana', 'depok laksana giat', 'deret', 'deret selebgram', 'deret selebgram beri', 'desain', 'desain kamar', 'desain kamar tidur', 'desember', 'desember tahun', 'destinasi', 'destinasi wisata', 'destinasi wisata garstronomi', 'dewi', 'dewi ratna', 'dewi ratna indah', 'diag', 'didapuk', 'didapuk peran', 'didapuk peran karakter', 'didapuk peran tokoh', 'dinas', 'dinas hubung', 'dinas hubung provinsi', 'dinas sehat', 'dinas sehat provinsi', 'dinding', 'dinding rumah', 'dinding rumah nyata', 'dinkes', 'dinkes kota', 'dinkes kota depok', 'direktorat', 'direktorat jenderal', 'direktorat jenderal pajak', 'direktorat reserse', 'direktorat reserse kriminal', 'diri', 'diri bahagia', 'diri berani', 'diri berani hadap', 'diri pernah', 'diri pernah sedikit', 'diskusi', 'diskusi akhir', 'diskusi akhir didapuk', 'diskusi instrumen', 'diskusi instrumen tepat', 'ditreskrimum', 'ditreskrimum polda', 'ditreskrimum polda metro', 'dokter', 'dokter ungkap', 'dokter ungkap pasien', 'domestik', 'door', 'door visor', 'door visor kerap', 'drama', 'drama remaja', 'drama remaja adaptasi', 'drone', 'drone salah', 'drone salah sasar', 'duga', 'duga gelap', 'duga gelap pajero', 'duga kubu', 'duga kubu lawan', 'dukung', 'dukung jumlah', 'dukung jumlah pihak', 'dukung rachel', 'dukung rachel berani', 'dukung rachel vennya', 'dukung upaya', 'dukung upaya diag', 'dunia', 'dunia joko', 'dunia joko widodo', 'dunia sungai', 'dunia sungai citarum', 'edar', 'edar potong', 'edar potong video', 'edukasi', 'edukasi orangtua', 'edukasi orangtua penting', 'efek', 'efek indonesia', 'efek indonesia kamis', 'eksim', 'eksim lifestyle', 'ekstra', 'ekstra jakpro', 'ekstra jakpro enggan', 'emas', 'emas sukses', 'emas sukses wujud', 'emisi', 'emisi mulai', 'emisi mulai november', 'emisi sangat', 'emisi sangat sedikit', 'emosi', 'emosi perilaku', 'empat', 'empat olahraga', 'empat olahraga ikut', 'empat staf', 'empat staf angeles', 'empuk', 'empuk lembut', 'empuk lembut kembang', 'energi', 'energi inggris', 'energi inggris kwasi', 'enggan', 'enggan guna', 'enggan guna pestisida', 'estimasi', 'estimasi jumlah', 'estimasi jumlah massa', 'etika', 'facebook', 'facebook anggap', 'facebook anggap jadi', 'fakta', 'fakta fakta', 'fakta fakta kena', 'fakta gagal', 'fakta gagal jantung', 'fakta kena', 'fakta kena guna', 'faktor', 'faktor jadi', 'faktor jadi sebab', 'faktor pengaruh', 'faktor pengaruh kondisi', 'fast', 'fast payment', 'fast payment tahap', 'fitnah', 'fitnah pojok', 'fitnah pojok diri', 'fokus', 'fokus salah', 'fokus salah satu', 'gabung', 'gabung ihsg', 'gabung ihsg gerak', 'gadot', 'gadot sedang', 'gadot sedang diskusi', 'gagal', 'gagal jantung', 'gagal jantung mulai', 'gagal jantung serang', 'ganti', 'ganti atur', 'ganti atur waktu', 'gardu', 'gardu guna', 'gardu guna bakal', 'garstronomi', 'garstronomi wisata', 'garstronomi wisata kuliner', 'gawat', 'gawat darurat', 'gawat darurat kuningan', 'gejala', 'gejala bronkitis', 'gejala bronkitis kronis', 'gelap', 'gelap pajero', 'gelap pajero awal', 'gelar', 'gelar depan', 'gelar depan kantor', 'gelar perkara', 'gembira', 'gembira celana', 'gembira celana jeans', 'gempa', 'gempa kilometer', 'gempa skala', 'gempa skala kecil', 'generasi', 'generasi emas', 'generasi emas sukses', 'genetik', 'genetik hilang', 'genetik hilang bulu', 'genomik', 'genomik solidaritas', 'genomik solidaritas indonesia', 'gerak', 'gerak lima', 'gerak lima menit', 'gerak zona', 'gerak zona hijau', 'geram', 'geram pilkades', 'geram pilkades muncul', 'giat', 'giat anak', 'giat anak anak', 'giat bulan', 'giat bulan imunisasi', 'giat masyarakat', 'giat masyarakat ppkm', 'gilang', 'gilang menwa', 'gilang menwa jadi', 'glasgow', 'gonta', 'gonta ganti', 'gonta ganti atur', 'grand', 'grand oldman', 'grand oldman haji', 'greenwashing', 'greenwashing guna', 'greenwashing guna sebut', 'grup', 'grup ikut', 'grup ikut klasemen', 'gugat', 'gugat perdata', 'gulir', 'gulir hari', 'gulir hari kamis', 'guna', 'guna aplikasi', 'guna aplikasi pedulilindungi', 'guna bakal', 'guna bakal hubung', 'guna cara', 'guna cara alami', 'guna milik', 'guna milik mobil', 'guna pestisida', 'guna pestisida pilih', 'guna sebut', 'guna sebut usaha', 'guna vaksin', 'guna vaksin anak', 'gunawan', 'gunawan tampak', 'gunawan tampak kejut', 'guyur', 'guyur beberapa', 'guyur beberapa kawasan', 'hadap', 'hadap tantang', 'hadap tantang menang', 'hadir', 'hadir glasgow', 'haji', 'haji agus', 'haji agus salim', 'hakim', 'hakim deret', 'hakim deret selebgram', 'hama', 'hama jadi', 'hama jadi tanam', 'hama serangga', 'hama serangga tutup', 'hamdullah', 'hamdullah mokhlis', 'hamdullah mokhlis tewas', 'hampir', 'hampir bulan', 'hampir bulan baring', 'harap', 'harap mulia', 'harap mulia terima', 'harap semua', 'harap semua kalang', 'harga', 'harga bahan', 'harga bahan bakar', 'harga ballon', 'harga saham', 'harga saham gabung', 'harga sewa', 'harga sewa rumah', 'hari', 'hari kamis', 'hari kamis saarlandhalle', 'hari tahun', 'hari tahun lalu', 'hasil', 'hasil investigasi', 'hasil investigasi pentagon', 'hasil mutasi', 'hasil mutasi genetik', 'hati', 'hati emosi', 'hati emosi perilaku', 'heboh', 'heboh salam', 'heboh salam binjai', 'helat', 'helat gelar', 'helat gelar perkara', 'hewani', 'hewani bagi', 'hewani bagi vegetarian', 'hidup', 'hijau', 'hijau awal', 'hijau awal dagang', 'hilang', 'hilang bulu', 'hilang bulu lindung', 'hindar', 'hindar jenis', 'hindar jenis alami', 'hingga', 'hingga desember', 'hingga luar', 'hingga luar negeri', 'hingga persen', 'hingga persen panjang', 'hingga ritual', 'hingga ritual korban', 'hubung', 'hubung jessica', 'hubung jessica iskandar', 'hubung provinsi', 'hubung provinsi jawa', 'hubung satelit', 'hubung satelit proses', 'hujan', 'hujan tinggi', 'hujan tinggi mulai', 'hukum', 'hukum dewi', 'hukum dewi ratna', 'hylo', 'hylo open', 'hylo open gulir', 'hype', 'idap', 'idap kanker', 'idap kanker prostat', 'identik', 'identik mobilitas', 'identik mobilitas masyarakat', 'ihsg', 'ihsg gerak', 'ihsg gerak zona', 'ihsg proyeksi', 'ihsg proyeksi kuat', 'ihsg rabu', 'ihsg rabu tutup', 'iklim', 'iklim presiden', 'iklim presiden vladimir', 'ikut', 'ikut awas', 'ikut awas giat', 'ikut beberapa', 'ikut beberapa pilih', 'ikut daftar', 'ikut daftar maupun', 'ikut fakta', 'ikut fakta fakta', 'ikut jogging', 'ikut jogging renang', 'ikut klasemen', 'ikut klasemen lengkap', 'ikut lebih', 'ikut lebih buruh', 'ikut libat', 'ikut libat kasus', 'ikut protokol', 'ikut protokol sehat', 'ikut rusak', 'ikut rusak pohon', 'imbau', 'imbau patuh', 'imbau patuh prokes', 'implementasi', 'implementasi fast', 'implementasi fast payment', 'imunisasi', 'imunisasi anak', 'imunisasi anak sekolah', 'inap', 'inap belum', 'inap belum tangan', 'indah', 'indeks', 'indeks harga', 'indeks harga saham', 'indonesia', 'indonesia ikut', 'indonesia ikut fakta', 'indonesia kamis', 'indonesia money', 'indonesia money jernihkanharapan', 'indonesia mulai', 'indonesia mulai implementasi', 'indonesia persero', 'indonesia persero sedang', 'indonesia piala', 'indonesia piala thomas', 'indonesia tren', 'indonesia tren jernihkanharapan', 'infestasi', 'infestasi hama', 'infestasi hama jadi', 'inggris', 'inggris kwasi', 'inggris kwasi kwarteng', 'instalasi', 'instalasi gawat', 'instalasi gawat darurat', 'instrumen', 'instrumen tepat', 'instrumen tepat stakeholder', 'investigasi', 'investigasi pentagon', 'investigasi pentagon nyata', 'ipad', 'ipad pantau', 'ipad pantau merosot', 'ipad terima', 'ipad terima unit', 'iring', 'iring longgar', 'iring longgar bijak', 'isis', 'isis buah', 'isis buah rumah', 'iskandar', 'iskandar vincent', 'iskandar vincent pernah', 'istri', 'istri adik', 'istri adik keponakan', 'ivan', 'ivan gunawan', 'ivan gunawan tampak', 'izin', 'izin indonesia', 'izin indonesia ikut', 'jacket', 'jacket pernah', 'jacket pernah pakai', 'jadi', 'jadi calon', 'jadi calon tunggal', 'jadi destinasi', 'jadi destinasi wisata', 'jadi harap', 'jadi harap semua', 'jadi kali', 'jadi kali gempa', 'jadi masuk', 'jadi masuk antara', 'jadi peristiwa', 'jadi peristiwa tinggal', 'jadi salah', 'jadi salah satu', 'jadi sebab', 'jadi sebab orang', 'jadi tanam', 'jadi tanam pakis', 'jadi usaha', 'jadi usaha jejaring', 'jadwal', 'jadwal langsung', 'jadwal langsung stadion', 'jahat', 'jahat live', 'jahat live action', 'jahat tubuh', 'jahat tubuh turun', 'jajar', 'jajar tokoh', 'jajar tokoh muslim', 'jakarta', 'jakarta beri', 'jakarta beri edukasi', 'jakpro', 'jakpro enggan', 'jakpro enggan guna', 'jalan', 'jalan awat', 'jalan awat bagaimana', 'jalan genomik', 'jalan genomik solidaritas', 'jalan hubung', 'jalan hubung jessica', 'jalan nyata', 'jalan nyata kemudi', 'jalan ubah', 'jalan ubah jangka', 'jalan udara', 'jalan udara domestik', 'jamal', 'jamal sangat', 'jamal sangat sesal', 'jangan', 'jangan sembarang', 'jangan sembarang sesap', 'jangan timbul', 'jangan timbul lonjak', 'jangka', 'jangka waktu', 'jangka waktu relatif', 'jantung', 'jantung alami', 'jantung alami orang', 'jantung kardiomiopati', 'jantung mulai', 'jantung mulai tips', 'jantung serang', 'jantung serang jantung', 'jawa', 'jawa tengah', 'jawa tengah hampir', 'jawa timur', 'jawa timur nyono', 'jawa timur xxix', 'jaya', 'jaya helat', 'jaya helat gelar', 'jaya tetap', 'jaya tetap rachel', 'jeans', 'jeans ukur', 'jeans ukur kini', 'jejaring', 'jejaring sosial', 'jejaring sosial masalah', 'jelang', 'jelang akhir', 'jelang akhir tahun', 'jelas', 'jelas alas', 'jelas alas rekening', 'jelas kuasa', 'jelas kuasa hukum', 'jembatan', 'jembatan kata', 'jembatan kata arif', 'jenderal', 'jenderal pajak', 'jenderal pajak menteri', 'jenis', 'jenis alami', 'jenis alami orang', 'jenis kopi', 'jenis kopi paling', 'jenis sakit', 'jenis sakit jantung', 'jerman', 'jernihkanharapan', 'jessica', 'jessica iskandar', 'jessica iskandar vincent', 'joget', 'joget bareng', 'joget bareng wendi', 'jogging', 'jogging renang', 'jogging renang sepeda', 'john', 'john usia', 'john usia juta', 'joko', 'joko widodo', 'joko widodo masuk', 'joko widodo tokoh', 'jual', 'juara', 'juara grup', 'juara grup ikut', 'judul', 'judul sama', 'jumlah', 'jumlah anak', 'jumlah anak anak', 'jumlah kendara', 'jumlah kendara lolos', 'jumlah massa', 'jumlah massa buruh', 'jumlah pihak', 'jumlah pihak antara', 'justru', 'justru coba', 'justru coba ubah', 'juta', 'juta tahun', 'juta tahun panjang', 'kabar', 'kabar sedap', 'kabar sedap duga', 'kabupaten', 'kabupaten angka', 'kabupaten angka mati', 'kabupaten kota', 'kabupaten kota kata', 'kabupaten semarang', 'kabupaten semarang dalam', 'kabur', 'kabur bantu', 'kabur bantu istri', 'kabur polresta', 'kabur polresta pekanbaru', 'kacang', 'kacang mete', 'kacang mete biji', 'kadar', 'kadar kolesterol', 'kadar kolesterol jahat', 'kafein', 'kafein cedera', 'kafein cedera lambung', 'kait', 'kait terap', 'kait terap batas', 'kaki', 'kaki bayam', 'kaki bayam megapolitan', 'kalang', 'kali', 'kali gempa', 'kali gempa skala', 'kamar', 'kamar tidur', 'kamil', 'kamil sampai', 'kamil sampai dunia', 'kamis', 'kamis ihsg', 'kamis ihsg rabu', 'kamis pagi', 'kamis pagi jadi', 'kamis pukul', 'kamis saarlandhalle', 'kamis saarlandhalle saarbruecken', 'kamu', 'kamu buat', 'kamu buat mudah', 'kanker', 'kanker prostat', 'kanker prostat jalan', 'kanna', 'kanna mirdad', 'kanna mirdad niko', 'kantor', 'kantor bakorwil', 'kantor bakorwil pamekasan', 'kapal', 'kapal kata', 'kapal kata kepala', 'karakter', 'karakter ratu', 'karakter ratu jahat', 'kardiomiopati', 'kartu', 'kartu vaksin', 'kartu vaksin wisatawan', 'kasus', 'kasus covid', 'kasus narkoba', 'kasus narkoba kabur', 'kasus sebut', 'kasus sebut sangka', 'kata', 'kata arif', 'kata arif camra', 'kata kepala', 'kata kepala dinas', 'kata menteri', 'kata menteri bisnis', 'kata pihak', 'kata pihak diskusi', 'kata said', 'kata tamu', 'kata tamu siar', 'kawasan', 'kawasan wilayah', 'kawasan wilayah indonesia', 'kecil', 'kecil wilayah', 'kecil wilayah salatiga', 'kejar', 'kejar kemplang', 'kejar kemplang pajak', 'kejut', 'kejut gembira', 'kejut gembira celana', 'kembang', 'kembang kamu', 'kembang kamu buat', 'kembang mampu', 'kembang mampu mungkin', 'kemenhub', 'kemenhub laku', 'kemenhub laku atur', 'kemenkeu', 'kemenkeu optimistis', 'kemenkeu optimistis target', 'kemplang', 'kemplang pajak', 'kemplang pajak hingga', 'kemudi', 'kemudi tinggal', 'kena', 'kena guna', 'kena guna vaksin', 'kendara', 'kendara lolos', 'kendara lolos emisi', 'kendara motor', 'kendara motor lulus', 'kepala', 'kepala dinas', 'kepala dinas hubung', 'keponakan', 'keponakan teman', 'kerangka', 'kerangka john', 'kerangka john usia', 'kerap', 'kerap sebut', 'kerap sebut talang', 'keras', 'keras wanita', 'keras wanita justru', 'kerja', 'kerja berat', 'kerja berat antara', 'kerja lulus', 'kerja tuntas', 'kerja tuntas baru', 'kiky', 'kiky saputri', 'kiky saputri semua', 'kilometer', 'kini', 'kini muat', 'kini muat kaki', 'klaim', 'klaim diri', 'klaim diri pernah', 'klaim lindung', 'klaim lindung lingkung', 'klasemen', 'klasemen lengkap', 'klasemen lengkap liga', 'klien', 'klien blokir', 'klien blokir jelas', 'koin', 'koin orangtuanya', 'koin orangtuanya biaya', 'kolektor', 'kolektor amerika', 'kolektor amerika serikat', 'kolesterol', 'kolesterol jahat', 'kolesterol jahat tubuh', 'kolong', 'kolong jembatan', 'kolong jembatan kata', 'komandan', 'komandan senior', 'komandan senior talib', 'komentar', 'komentar rossa', 'komentar rossa anggap', 'kondisi', 'kondisi sakit', 'kondisi sakit satu', 'kondisi tubuh', 'kondisi tubuh kafein', 'konsumsi', 'konsumsi bahan', 'konsumsi bahan makan', 'kopi', 'kopi baik', 'kopi baik pilih', 'kopi paling', 'kopi paling sesuai', 'korban', 'korban dapat', 'korban dapat awat', 'korban manusia', 'korban manusia kuno', 'kota', 'kota depok', 'kota depok laksana', 'kota kata', 'kota kata said', 'kota medan', 'kota medan yakin', 'kota pemda', 'kota pemda estimasi', 'kremlin', 'kremlin rusia', 'kremlin rusia serius', 'kriminal', 'kriminal umum', 'kriminal umum ditreskrimum', 'kronis', 'kronis penting', 'kronis penting nali', 'kuasa', 'kuasa hukum', 'kuasa hukum dewi', 'kuat', 'kuat kamis', 'kuat kamis ihsg', 'kubu', 'kubu lawan', 'kubu lawan fitnah', 'kucing', 'kucing bulu', 'kucing bulu hasil', 'kuliner', 'kulit', 'kulit vaksinasi', 'kulit vaksinasi covid', 'kuningan', 'kuno', 'kurang', 'kurang aktif', 'kurang aktif gerak', 'kwarteng', 'kwasi', 'kwasi kwarteng', 'laga', 'laga sela', 'laga sela sela', 'laksana', 'laksana giat', 'laksana giat bulan', 'laku', 'laku atur', 'laku atur baru', 'laku cabul', 'laku cabul anak', 'laku empat', 'laku empat olahraga', 'laku renovasi', 'laku renovasi tentu', 'laku tindak', 'laku tindak keras', 'lalu', 'lalu grand', 'lalu grand oldman', 'lama', 'lama pinggir', 'lama pinggir jalan', 'lambat', 'lambung', 'lambung saraf', 'langgar', 'langgar hukum', 'langsung', 'langsung stadion', 'langsung stadion maguwoharjo', 'langsung terap', 'langsung terap sanksi', 'lansia', 'lansia kerja', 'lansia kerja berat', 'lantai', 'lantai dapur', 'lantai dapur perhati', 'lantai kabur', 'lantai kabur bantu', 'laris', 'laris judul', 'laris judul sama', 'last', 'last airbender', 'last airbender serial', 'lawan', 'lawan fitnah', 'lawan fitnah pojok', 'lawan isis', 'lawan isis buah', 'lebih', 'lebih baik', 'lebih banyak', 'lebih banyak buah', 'lebih buruh', 'lebih buruh pabrik', 'lebih empat', 'lebih empat staf', 'lebih kabupaten', 'lebih kabupaten kota', 'lemas', 'lemas uang', 'lemas uang koin', 'lembut', 'lembut kembang', 'lembut kembang kamu', 'lengkap', 'lengkap liga', 'lengkap liga champions', 'level', 'level naik', 'level naik poin', 'level pimpin', 'lewandowski', 'lewandowski nilai', 'lewandowski nilai pantas', 'libat', 'libat kasus', 'libat kasus sebut', 'libur', 'libur nataru', 'libur nataru selalu', 'life', 'life jacket', 'life jacket pernah', 'lifestyle', 'liga', 'liga champions', 'liga champions juara', 'lihat', 'lihat benar', 'lihat benar balik', 'lihat nikita', 'lihat nikita cinta', 'lima', 'lima menit', 'lima menit sekali', 'lindung', 'lindung lingkung', 'lindung lingkung waktu', 'lingkung', 'lingkung waktu', 'lingkung waktu sama', 'live', 'live action', 'live action adaptasi', 'live action snow', 'liverpool', 'liverpool pasti', 'liverpool pasti lolos', 'lolos', 'lolos babak', 'lolos babak besar', 'lolos emisi', 'lolos emisi sangat', 'lompat', 'lompat lantai', 'lompat lantai kabur', 'longgar', 'longgar bijak', 'longgar bijak perintah', 'lonjak', 'lonjak kasus', 'lonjak kasus covid', 'lowong', 'lowong kerja', 'lowong kerja lulus', 'luar', 'luar negeri', 'luhut', 'luhut binsar', 'luhut binsar pandjaitan', 'lulus', 'lulus emisi', 'lulus emisi mulai', 'maaf', 'maaf hype', 'maguwoharjo', 'maguwoharjo sleman', 'maguwoharjo sleman yogyakarta', 'makan', 'makan bawang', 'makan hewani', 'makan hewani bagi', 'makan lebih', 'makan lebih banyak', 'malam', 'mampu', 'mampu mungkin', 'mampu mungkin rebut', 'mampu pengaruh', 'mampu pengaruh suasana', 'manfaat', 'manfaat burung', 'manfaat burung kaki', 'mantan', 'mantan presiden', 'manusia', 'manusia kuno', 'manusia tinggal', 'manusia tinggal sampah', 'marves', 'marves luhut', 'marves luhut binsar', 'masalah', 'masalah sama', 'masalah sama bila', 'massa', 'massa buruh', 'massa buruh ikut', 'masuk', 'masuk antara', 'masuk antara ubah', 'masuk gugat', 'masuk gugat perdata', 'masuk jajar', 'masuk jajar tokoh', 'masuk peringkat', 'masuk peringkat asia', 'masyarakat', 'masyarakat jangan', 'masyarakat jangan timbul', 'masyarakat ppkm', 'masyarakat tren', 'masyarakat tren jernihkanharapan', 'mata', 'mata kata', 'mata kata menteri', 'mati', 'mati bayi', 'mati bayi tinggi', 'maupun', 'maupun awak', 'maupun awak kapal', 'maupun masuk', 'maupun masuk peringkat', 'medan', 'medan yakin', 'medan yakin jadi', 'media', 'media sosial', 'media sosial kata', 'megapolitan', 'menang', 'menang segala', 'menang segala situasi', 'menerapkani', 'menerapkani tilang', 'menerapkani tilang kendara', 'menhan', 'menhan prabowo', 'menhan prabowo subianto', 'menit', 'menit sekali', 'menit sekali cegah', 'menko', 'menko marves', 'menko marves luhut', 'mental', 'mental lebih', 'mental lebih baik', 'menteri', 'menteri bisnis', 'menteri bisnis energi', 'menteri uang', 'menteri uang bidang', 'menteri uang kejar', 'menwa', 'menwa jadi', 'menwa jadi harap', 'merosot', 'merosot hingga', 'merosot hingga persen', 'meski', 'meski bukan', 'meski bukan tanam', 'meski militer', 'meski militer kembang', 'mete', 'mete biji', 'mete biji wijen', 'meter', 'meter orang', 'meter orang kolektor', 'metro', 'metro jaya', 'metro jaya helat', 'metro jaya tetap', 'milik', 'milik mobil', 'milik sehat', 'milik sehat mental', 'militer', 'militer kembang', 'militer kembang mampu', 'mimpi', 'mimpi bawa', 'mimpi bawa pulang', 'minta', 'minta bayar', 'minta maaf', 'minta maaf hype', 'minta orangtua', 'minta orangtua ikut', 'minyak', 'minyak november', 'minyak november shell', 'mirdad', 'mirdad niko', 'mirdad niko hakim', 'mobil', 'mobil parkir', 'mobil parkir lama', 'mobilitas', 'mobilitas masyarakat', 'mobilitas masyarakat jangan', 'mokhlis', 'mokhlis tewas', 'mokhlis tewas tempur', 'money', 'money jernihkanharapan', 'motor', 'motor lulus', 'motor lulus emisi', 'muat', 'muat kaki', 'muda', 'muda bawah', 'muda bawah usia', 'muda hingga', 'muda hingga ritual', 'mudah', 'mudah rumah', 'mudah rumah pakai', 'mula', 'mula edar', 'mula edar potong', 'mulai', 'mulai gagal', 'mulai gagal jantung', 'mulai guyur', 'mulai guyur beberapa', 'mulai implementasi', 'mulai implementasi fast', 'mulai november', 'mulai november tunda', 'mulai tips', 'mulai tips hindar', 'mulia', 'mulia terima', 'mulia terima undang', 'muncul', 'muncul kabar', 'muncul kabar sedap', 'mungkin', 'mungkin infestasi', 'mungkin infestasi hama', 'mungkin rebut', 'mungkin rebut pulau', 'musabaqah', 'musabaqah tilawatil', 'musabaqah tilawatil quran', 'muslim', 'muslim paling', 'muslim paling pengaruh', 'mutasi', 'mutasi genetik', 'mutasi genetik hilang', 'naik', 'naik pertamina', 'naik pertamina tetap', 'naik poin', 'naik poin persen', 'nali', 'nali dukung', 'nali dukung upaya', 'narkoba', 'narkoba kabur', 'narkoba kabur polresta', 'nasi', 'nasi udang', 'nasi udang resep', 'nataru', 'nataru selalu', 'nataru selalu identik', 'negatif', 'negatif kurang', 'negatif kurang aktif', 'negeri', 'netflix', 'nikita', 'nikita cinta', 'nikita cinta akan', 'niko', 'niko hakim', 'niko hakim deret', 'nilai', 'nilai bingung', 'nilai pantas', 'nilai pantas sabet', 'novel', 'novel laris', 'novel laris judul', 'november', 'november hingga', 'november hingga desember', 'november ikut', 'november ikut lebih', 'november shell', 'november shell alami', 'november tunda', 'nyata', 'nyata kemudi', 'nyata kemudi tinggal', 'nyata mampu', 'nyata mampu pengaruh', 'nyata serang', 'nyata serang drone', 'nyono', 'oktober', 'oktober ipad', 'oktober ipad terima', 'olahraga', 'olahraga ikut', 'olahraga ikut jogging', 'oldman', 'oldman haji', 'oldman haji agus', 'ombak', 'ombak level', 'ombak level pimpin', 'open', 'open gulir', 'open gulir hari', 'operasi', 'operasional', 'operasional sebut', 'operasional sebut iring', 'optimistis', 'optimistis target', 'optimistis target terima', 'orang', 'orang ikut', 'orang ikut libat', 'orang kolektor', 'orang kolektor amerika', 'orang muda', 'orang muda bawah', 'orang muda hingga', 'orang perempuan', 'orang perempuan jadi', 'orang sulit', 'orang sulit tidur', 'orang tahan', 'orang tahan kasus', 'orang wajib', 'orang wajib asuransi', 'orangtua', 'orangtua ikut', 'orangtua ikut awas', 'orangtua penting', 'orangtua penting vaksinasi', 'orangtuanya', 'orangtuanya biaya', 'orangtuanya biaya operasi', 'ozai', 'ozai avatar', 'ozai avatar last', 'pabrik', 'pabrik provinsi', 'pabrik provinsi lebih', 'pagi', 'pagi jadi', 'pagi jadi kali', 'pajak', 'pajak arsal', 'pajak arsal kata', 'pajak hingga', 'pajak hingga luar', 'pajak menteri', 'pajak menteri uang', 'pajak tahun', 'pajak tahun dekat', 'pajero', 'pajero awal', 'pajero awal masuk', 'pakai', 'pakai etika', 'pakai kacang', 'pakai kacang mete', 'pakai tumpang', 'pakai tumpang maupun', 'pakis', 'pakis boston', 'paling', 'paling pengaruh', 'paling pengaruh indonesia', 'paling pengaruh tahun', 'paling sesuai', 'paling sesuai kondisi', 'pamekasan', 'pamekasan rabu', 'pamekasan rabu malam', 'pandang', 'pandang buruk', 'pandang buruk pasang', 'pandjaitan', 'pandjaitan klaim', 'pandjaitan klaim diri', 'panglima', 'panglima dapat', 'panglima dapat dukung', 'panjang', 'panjang delapan', 'panjang delapan meter', 'panjang september', 'panjang september oktober', 'panjang waktu', 'panjang waktu operasional', 'pantas', 'pantas sabet', 'pantas sabet harga', 'pantau', 'pantau merosot', 'pantau merosot hingga', 'parkir', 'parkir lama', 'parkir lama pinggir', 'pasang', 'pasang laku', 'pasang laku tindak', 'pasien', 'pasien autoimun', 'pasien autoimun kulit', 'pasti', 'pasti lolos', 'pasti lolos babak', 'patok', 'patok dinkes', 'patok dinkes kota', 'patuh', 'patuh pajak', 'patuh pajak arsal', 'patuh prokes', 'payment', 'payment tahap', 'payment tahap pertama', 'pecat', 'pecat tolak', 'pecat tolak vaksin', 'pedulilindungi', 'pedulilindungi periksa', 'pedulilindungi periksa kartu', 'pekan', 'pekan desember', 'pekan desember tahun', 'pekanbaru', 'pekanbaru lompat', 'pekanbaru lompat lantai', 'pemda', 'pemda estimasi', 'pemda estimasi jumlah', 'pemprov', 'pemprov awal', 'pemprov awal umum', 'pengaruh', 'pengaruh indonesia', 'pengaruh indonesia tren', 'pengaruh kondisi', 'pengaruh kondisi sakit', 'pengaruh suasana', 'pengaruh suasana hati', 'pengaruh tahun', 'pengaruh tahun seluruh', 'pentagon', 'pentagon nyata', 'pentagon nyata serang', 'penting', 'penting nali', 'penting nali dukung', 'penting vaksinasi', 'penting vaksinasi covid', 'penuh', 'penuh gardu', 'penuh gardu guna', 'penuh syarat', 'penuh syarat syarat', 'peran', 'peran karakter', 'peran karakter ratu', 'peran tokoh', 'peran tokoh raja', 'perdata', 'perempuan', 'perempuan jadi', 'perempuan jadi masuk', 'perhati', 'perhati awat', 'perhati awat tahan', 'periksa', 'periksa kartu', 'periksa kartu vaksin', 'perilaku', 'peringkat', 'peringkat asia', 'peringkat asia university', 'perintah', 'perintah kait', 'perintah kait terap', 'perintah kota', 'perintah kota medan', 'peristiwa', 'peristiwa tinggal', 'peristiwa tinggal gilang', 'perkara', 'perkara sangkut', 'perkara sangkut duga', 'pernah', 'pernah pakai', 'pernah pakai tumpang', 'pernah sedikit', 'pernah sedikit ambil', 'pernah tegas', 'pernah tegas soal', 'persen', 'persen panjang', 'persen panjang september', 'persero', 'persero sedang', 'persero sedang buka', 'pertama', 'pertama pekan', 'pertama pekan desember', 'pertamina', 'pertamina tetap', 'pestisida', 'pestisida pilih', 'pestisida pilih guna', 'piala', 'piala thomas', 'piala thomas rupa', 'picu', 'picu besar', 'picu besar eksim', 'pihak', 'pihak antara', 'pihak antara menhan', 'pihak bank', 'pihak bank sama', 'pihak diskusi', 'pihak diskusi instrumen', 'pilih', 'pilih guna', 'pilih guna cara', 'pilih jenis', 'pilih jenis kopi', 'pilih lantai', 'pilih lantai dapur', 'pilih makan', 'pilih makan bawang', 'pilkades', 'pilkades muncul', 'pilkades muncul kabar', 'pimpin', 'pinggir', 'pinggir jalan', 'pinggir jalan nyata', 'pisang', 'pisang polisi', 'pisang polisi minta', 'podcast', 'podcast minta', 'podcast minta bayar', 'pohon', 'pohon pisang', 'pohon pisang polisi', 'poin', 'poin persen', 'pojok', 'pojok diri', 'polda', 'polda metro', 'polda metro jaya', 'polisi', 'polisi langsung', 'polisi langsung terap', 'polisi minta', 'polisi minta orangtua', 'polresta', 'polresta pekanbaru', 'polresta pekanbaru lompat', 'pontianak', 'pontianak rata', 'pontianak rata rata', 'positif', 'positif level', 'positif level naik', 'potong', 'potong video', 'potong video deddy', 'ppkm', 'prabowo', 'prabowo subianto', 'praktik', 'praktik life', 'praktik life jacket', 'presiden', 'presiden joko', 'presiden joko widodo', 'presiden vladimir', 'presiden vladimir putin', 'pribadi', 'pribadi bisnis', 'pribadi bisnis jalan', 'produksi', 'produksi ipad', 'produksi ipad pantau', 'program', 'program kabupaten', 'prokes', 'properti', 'properti laku', 'properti laku renovasi', 'proses', 'proses bayar', 'prostat', 'prostat jalan', 'prostat jalan awat', 'protokol', 'protokol sehat', 'provinsi', 'provinsi jakarta', 'provinsi jakarta beri', 'provinsi jawa', 'provinsi jawa timur', 'provinsi lebih', 'provinsi lebih kabupaten', 'proyeksi', 'proyeksi kuat', 'proyeksi kuat kamis', 'publik', 'publik manusia', 'publik manusia tinggal', 'pukul', 'pulang', 'pulang trofi', 'pulang trofi sebut', 'pulau', 'pulau sebut', 'pusat', 'pusat balai', 'pusat balai kota', 'putin', 'putin hadir', 'putin hadir glasgow', 'quran', 'quran jawa', 'quran jawa timur', 'rabu', 'rabu malam', 'rabu tutup', 'rabu tutup positif', 'rachel', 'rachel berani', 'rachel berani minta', 'rachel vennya', 'rachel vennya tiga', 'raffi', 'raffi ahmad', 'raffi ahmad tyna', 'raja', 'raja ozai', 'raja ozai avatar', 'ramah', 'ramah lingkung', 'rankings', 'rasa', 'rasa geram', 'rasa geram pilkades', 'rata', 'rata rata', 'rata rata usia', 'rata usia', 'rata usia tahun', 'ratna', 'ratna indah', 'ratu', 'ratu jahat', 'ratu jahat live', 'rawat', 'rawat inap', 'rawat inap belum', 'rawat lansia', 'rawat lansia kerja', 'rebut', 'rebut pulau', 'rebut pulau sebut', 'regional', 'regional jernihkanharapan', 'rekening', 'rekening klien', 'rekening klien blokir', 'rektor', 'rektor jamal', 'rektor jamal sangat', 'relatif', 'relatif singkat', 'relatif singkat nilai', 'remaja', 'remaja adaptasi', 'remaja adaptasi novel', 'renang', 'renang sepeda', 'renang sepeda yoga', 'renovasi', 'renovasi tentu', 'renovasi tentu harga', 'rentan', 'rentan serang', 'rentan serang hama', 'resep', 'resep bakpao', 'resep bakpao ungu', 'resep jual', 'reserse', 'reserse kriminal', 'reserse kriminal umum', 'ridwan', 'ridwan kamil', 'ridwan kamil sampai', 'ritual', 'ritual korban', 'ritual korban manusia', 'robert', 'robert lewandowski', 'robert lewandowski nilai', 'rossa', 'rossa anggap', 'rossa anggap dukung', 'rossa raffi', 'rossa raffi ahmad', 'ruang', 'ruang rawat', 'ruang rawat inap', 'rumah', 'rumah nyata', 'rumah nyata mampu', 'rumah orang', 'rumah orang wajib', 'rumah pakai', 'rumah pakai kacang', 'rumah sakit', 'rumah sakit afghanistan', 'rumah tepat', 'rumput', 'rumput spesial', 'rumput spesial butuh', 'rupa', 'rupa aksesori', 'rupa aksesori guna', 'rupa generasi', 'rupa generasi emas', 'rusak', 'rusak pohon', 'rusak pohon pisang', 'rusia', 'rusia serius', 'rusia serius tangan', 'saarbruecken', 'saarbruecken jerman', 'saarlandhalle', 'saarlandhalle saarbruecken', 'saarlandhalle saarbruecken jerman', 'sabet', 'sabet harga', 'sabet harga ballon', 'saham', 'saham gabung', 'saham gabung ihsg', 'said', 'sakit', 'sakit afghanistan', 'sakit jantung', 'sakit jantung alami', 'sakit satu', 'sakit satu stres', 'salah', 'salah sasar', 'salah sasar tewas', 'salah satu', 'salah satu kabupaten', 'salah satu picu', 'salam', 'salam binjai', 'salam binjai jumlah', 'salatiga', 'salatiga kabupaten', 'salatiga kabupaten semarang', 'salim', 'salim tutup', 'salim tutup usia', 'sama', 'sama bila', 'sama bila ombak', 'sama sekali', 'sama sekali beri', 'sama terus', 'sama terus rusak', 'sampah', 'sampah kolong', 'sampah kolong jembatan', 'sampai', 'sampai dunia', 'sampai dunia sungai', 'sangat', 'sangat harap', 'sangat harap mulia', 'sangat sedikit', 'sangat sesal', 'sangat sesal jadi', 'sangka', 'sangka sidik', 'sangka sidik direktorat', 'sangkut', 'sangkut duga', 'sangkut duga gelap', 'sanksi', 'sanksi tilang', 'sanksi tilang jumlah', 'saputri', 'saputri semua', 'saputri semua awal', 'saraf', 'sasar', 'sasar tewas', 'sasar tewas warga', 'satelit', 'satelit proses', 'satelit proses bayar', 'satu', 'satu faktor', 'satu faktor jadi', 'satu kabupaten', 'satu kabupaten angka', 'satu picu', 'satu picu besar', 'satu stres', 'satu stres jadi', 'saudi', 'saudi tuju', 'saudi tuju guna', 'sayur', 'sayur milik', 'sayur milik sehat', 'sebab', 'sebab orang', 'sebab orang sulit', 'sebut', 'sebut iring', 'sebut iring longgar', 'sebut lihat', 'sebut lihat nikita', 'sebut patok', 'sebut patok dinkes', 'sebut sangka', 'sebut talang', 'sebut talang rupa', 'sebut usaha', 'sebut usaha klaim', 'sedang', 'sedang buka', 'sedang buka lowong', 'sedang diskusi', 'sedang diskusi akhir', 'sedap', 'sedap duga', 'sedap duga kubu', 'sedikit', 'sedikit ambil', 'sedikit ambil untung', 'segala', 'segala situasi', 'segala situasi pimpin', 'sehat', 'sehat mental', 'sehat mental lebih', 'sehat provinsi', 'sehat provinsi jakarta', 'sekali', 'sekali beri', 'sekali beri jelas', 'sekali cegah', 'sekali cegah dampak', 'sekolah', 'sekolah bias', 'sekolah bias november', 'sela', 'sela bandung', 'sela bandung jadwal', 'sela sela', 'sela sela bandung', 'selalu', 'selalu identik', 'selalu identik mobilitas', 'selebgram', 'selebgram beri', 'selebgram beri dukung', 'seluruh', 'seluruh dunia', 'seluruh dunia joko', 'semarang', 'semarang dalam', 'semarang dalam gempa', 'sembarang', 'sembarang sesap', 'sembarang sesap kopi', 'sempat', 'sempat usir', 'sempat usir anak', 'semua', 'semua awal', 'semua awal video', 'semua kalang', 'senior', 'senior talib', 'senior talib hamdullah', 'sepeda', 'sepeda yoga', 'september', 'september oktober', 'september oktober ipad', 'serang', 'serang drone', 'serang drone salah', 'serang hama', 'serang hama serangga', 'serang jantung', 'serang jantung kardiomiopati', 'serang taiwan', 'serang taiwan waktu', 'serangga', 'serangga tutup', 'serangga tutup mungkin', 'serial', 'serial live', 'serial live action', 'serikat', 'serius', 'serius jalan', 'serius jalan hubung', 'serius tangan', 'serius tangan ubah', 'sesal', 'sesal jadi', 'sesal jadi peristiwa', 'sesap', 'sesap kopi', 'sesap kopi baik', 'sesuai', 'sesuai kondisi', 'sesuai kondisi tubuh', 'sewa', 'sewa rumah', 'sewa rumah orang', 'sewa rumah tepat', 'shell', 'shell alami', 'shell alami naik', 'sheriff', 'sheriff besar', 'sheriff besar ancam', 'sheriff departemen', 'sheriff departemen sheriff', 'siap', 'siap diri', 'siap diri berani', 'siar', 'siar podcast', 'siar podcast minta', 'sidik', 'sidik direktorat', 'sidik direktorat reserse', 'sindir', 'sindir atas', 'sindir atas komentar', 'singkat', 'singkat nilai', 'singkat nilai bingung', 'singkat timbul', 'singkat timbul bingung', 'sinovac', 'sinovac usia', 'sinovac usia tahun', 'sipil', 'sipil afghanistan', 'sipil afghanistan langgar', 'sisi', 'sisi gonta', 'sisi gonta ganti', 'situasi', 'situasi pimpin', 'skala', 'skala kecil', 'skala kecil wilayah', 'skuad', 'skuad indonesia', 'skuad indonesia piala', 'sleman', 'sleman yogyakarta', 'sleman yogyakarta kamis', 'snow', 'snow white', 'soal', 'soal cara', 'soal cara pakai', 'soal uang', 'soal uang jessica', 'solidaritas', 'solidaritas indonesia', 'solidaritas indonesia money', 'sosial', 'sosial kata', 'sosial kata tamu', 'sosial masalah', 'sosial masalah sama', 'spesial', 'spesial butuh', 'spesial butuh awat', 'ssaat', 'ssaat pilih', 'ssaat pilih lantai', 'stadion', 'stadion maguwoharjo', 'stadion maguwoharjo sleman', 'staf', 'staf ahli', 'staf ahli menteri', 'staf angeles', 'staf angeles county', 'stakeholder', 'stakeholder kait', 'stres', 'stres jadi', 'stres jadi salah', 'suasana', 'suasana hati', 'suasana hati emosi', 'subianto', 'sukses', 'sukses wujud', 'sukses wujud mimpi', 'sulhan', 'sulhan rasa', 'sulhan rasa geram', 'sulit', 'sulit tidur', 'sulit tidur desain', 'sungai', 'sungai citarum', 'sungai citarum buruk', 'support', 'support publik', 'support publik manusia', 'syarat', 'syarat syarat', 'syarat syarat tentu', 'syarat tentu', 'tahan', 'tahan ikut', 'tahan ikut beberapa', 'tahan kasus', 'tahan kasus narkoba', 'tahap', 'tahap pertama', 'tahap pertama pekan', 'tahun', 'tahun brebes', 'tahun brebes jawa', 'tahun curah', 'tahun curah hujan', 'tahun dekat', 'tahun dekat target', 'tahun izin', 'tahun izin indonesia', 'tahun lalu', 'tahun lalu grand', 'tahun mulai', 'tahun mulai gagal', 'tahun panjang', 'tahun panjang delapan', 'tahun pontianak', 'tahun pontianak rata', 'tahun seluruh', 'tahun seluruh dunia', 'tahun tahun', 'tahun usia', 'tahun usia tahun', 'tahun vaksinasi', 'tahun vaksinasi covid', 'taiwan', 'taiwan waktu', 'taiwan waktu dekat', 'talang', 'talang rupa', 'talang rupa aksesori', 'talib', 'talib hamdullah', 'talib hamdullah mokhlis', 'tampak', 'tampak kejut', 'tampak kejut gembira', 'tamu', 'tamu siar', 'tamu siar podcast', 'tanam', 'tanam pakis', 'tanam pakis boston', 'tanam rentan', 'tanam rentan serang', 'tangan', 'tangan instalasi', 'tangan instalasi gawat', 'tangan ubah', 'tangan ubah iklim', 'tantang', 'tantang menang', 'tantang menang segala', 'target', 'target sebut', 'target sebut patok', 'target terima', 'target terima pajak', 'target triliun', 'target triliun apbn', 'tegas', 'tegas soal', 'tegas soal uang', 'teliti', 'teliti ungkap', 'teliti ungkap gerak', 'teman', 'tempur', 'tempur lawan', 'tempur lawan isis', 'tengah', 'tengah dapat', 'tengah dapat soal', 'tengah hampir', 'tengah hampir bulan', 'tentu', 'tentu harga', 'tentu harga sewa', 'tepat', 'tepat stakeholder', 'tepat stakeholder kait', 'terap', 'terap batas', 'terap batas giat', 'terap penuh', 'terap penuh gardu', 'terap sanksi', 'terap sanksi tilang', 'terima', 'terima pajak', 'terima pajak tahun', 'terima undang', 'terima unit', 'terima unit lambat', 'terus', 'terus rusak', 'tetap', 'tetap rachel', 'tetap rachel vennya', 'tetap sangka', 'tetap sangka sidik', 'tewas', 'tewas tempur', 'tewas tempur lawan', 'tewas warga', 'tewas warga sipil', 'thomas', 'thomas rupa', 'thomas rupa generasi', 'tidur', 'tidur desain', 'tidur desain kamar', 'tiga', 'tiga orang', 'tiga orang ikut', 'tilang', 'tilang jumlah', 'tilang jumlah kendara', 'tilang kendara', 'tilang kendara motor', 'tilawatil', 'tilawatil quran', 'tilawatil quran jawa', 'timbul', 'timbul bingung', 'timbul bingung masyarakat', 'timbul lonjak', 'timbul lonjak kasus', 'timur', 'timur nyono', 'timur xxix', 'timur xxix gelar', 'tindak', 'tindak keras', 'tindak keras wanita', 'tinggal', 'tinggal gilang', 'tinggal gilang menwa', 'tinggal sampah', 'tinggal sampah kolong', 'tinggi', 'tinggi kerja', 'tinggi kerja tuntas', 'tinggi mulai', 'tinggi mulai guyur', 'tips', 'tips hindar', 'tips hindar jenis', 'tokoh', 'tokoh muslim', 'tokoh muslim paling', 'tokoh raja', 'tokoh raja ozai', 'tolak', 'tolak vaksin', 'tren', 'tren jernihkanharapan', 'triliun', 'triliun apbn', 'trofi', 'trofi sebut', 'tubuh', 'tubuh kafein', 'tubuh kafein cedera', 'tubuh turun', 'tubuh turun coba', 'tuding', 'tuding mula', 'tuding mula edar', 'tuju', 'tuju guna', 'tuju guna vaksin', 'tuju hidup', 'tumpang', 'tumpang maupun', 'tumpang maupun awak', 'tunda', 'tunggal', 'tunggal panglima', 'tunggal panglima dapat', 'tunjuk', 'tunjuk andika', 'tunjuk andika jadi', 'tuntas', 'tuntas baru', 'tuntas baru alih', 'turun', 'turun coba', 'turun coba laku', 'tutup', 'tutup mungkin', 'tutup mungkin infestasi', 'tutup positif', 'tutup positif level', 'tutup usia', 'tutup usia november', 'tyna', 'tyna kanna', 'tyna kanna mirdad', 'uang', 'uang bidang', 'uang bidang patuh', 'uang jessica', 'uang kejar', 'uang kejar kemplang', 'uang koin', 'uang koin orangtuanya', 'ubah', 'ubah alami', 'ubah alami orang', 'ubah diri', 'ubah diri bahagia', 'ubah iklim', 'ubah iklim presiden', 'ubah jangka', 'ubah jangka waktu', 'ubah tuju', 'ubah tuju hidup', 'udang', 'udang resep', 'udang resep jual', 'udara', 'udara domestik', 'ukur', 'ukur kini', 'ukur kini muat', 'umum', 'umum ditreskrimum', 'umum ditreskrimum polda', 'umum menerapkani', 'umum menerapkani tilang', 'undang', 'ungkap', 'ungkap gerak', 'ungkap gerak lima', 'ungkap pasien', 'ungkap pasien autoimun', 'ungu', 'ungu empuk', 'ungu empuk lembut', 'unit', 'unit lambat', 'university', 'university rankings', 'untung', 'untung pribadi', 'untung pribadi bisnis', 'upaya', 'upaya diag', 'update', 'update harga', 'update harga bahan', 'usaha', 'usaha jejaring', 'usaha jejaring sosial', 'usaha klaim', 'usaha klaim lindung', 'usia', 'usia juta', 'usia juta tahun', 'usia november', 'usia tahun', 'usia tahun izin', 'usia tahun mulai', 'usia tahun tahun', 'usia tahun usia', 'usir', 'usir anak', 'usir anak dekat', 'vaksin', 'vaksin anak', 'vaksin anak anak', 'vaksin anak tahun', 'vaksin sinovac', 'vaksin sinovac usia', 'vaksin wisatawan', 'vaksin wisatawan imbau', 'vaksinasi', 'vaksinasi covid', 'vaksinasi covid anak', 'vaksinasi covid asal', 'vegetarian', 'vegetarian pilih', 'vegetarian pilih makan', 'vennya', 'vennya tiga', 'vennya tiga orang', 'video', 'video deddy', 'video deddy corbuzier', 'video joget', 'video joget bareng', 'video sebut', 'video sebut lihat', 'vincent', 'vincent pernah', 'vincent pernah tegas', 'visor', 'visor kerap', 'visor kerap sebut', 'vladimir', 'vladimir putin', 'vladimir putin hadir', 'wajib', 'wajib asuransi', 'wajib asuransi properti', 'waktu', 'waktu dekat', 'waktu dekat meski', 'waktu operasional', 'waktu operasional sebut', 'waktu relatif', 'waktu relatif singkat', 'waktu sama', 'waktu sama terus', 'waktu singkat', 'waktu singkat timbul', 'walaupun', 'walaupun guna', 'walaupun guna aplikasi', 'wanita', 'wanita justru', 'wanita justru coba', 'warga', 'warga curiga', 'warga curiga mobil', 'warga sipil', 'warga sipil afghanistan', 'warna', 'warna dinding', 'warna dinding rumah', 'wendi', 'wendi cagur', 'wendi cagur sempat', 'wendi kiky', 'wendi kiky saputri', 'white', 'widodo', 'widodo masuk', 'widodo masuk jajar', 'widodo tokoh', 'widodo tokoh muslim', 'wijen', 'wilayah', 'wilayah indonesia', 'wilayah salatiga', 'wilayah salatiga kabupaten', 'wisata', 'wisata garstronomi', 'wisata garstronomi wisata', 'wisata kuliner', 'wisatawan', 'wisatawan imbau', 'wisatawan imbau patuh', 'wujud', 'wujud mimpi', 'wujud mimpi bawa', 'xxix', 'xxix gelar', 'xxix gelar depan', 'yakin', 'yakin jadi', 'yakin jadi destinasi', 'yoga', 'yogyakarta', 'yogyakarta kamis', 'yogyakarta kamis pukul', 'zero', 'zero ramah', 'zero ramah lingkung', 'zona', 'zona hijau', 'zona hijau awal']\n",
            "[[0 0 0 ... 0 0 0]\n",
            " [0 0 0 ... 0 0 0]\n",
            " [0 0 0 ... 0 0 0]\n",
            " ...\n",
            " [0 0 0 ... 0 0 0]\n",
            " [0 0 0 ... 0 0 0]\n",
            " [0 0 0 ... 0 0 0]]\n"
          ]
        }
      ],
      "source": [
        "print(vectorizer_ngram_range.get_feature_names())\n",
        "print(bow_matrix_ngram.toarray())"
      ]
    },
    {
      "cell_type": "code",
      "execution_count": null,
      "metadata": {
        "id": "0EQ91yTmv7ma"
      },
      "outputs": [],
      "source": [
        "vectorizer_max_features = CountVectorizer(analyzer='word',ngram_range=(1,3), max_features = 10)\n",
        "bow_matrix_max_features = vectorizer_max_features.fit_transform(kalimat)"
      ]
    },
    {
      "cell_type": "code",
      "execution_count": null,
      "metadata": {
        "colab": {
          "base_uri": "https://localhost:8080/"
        },
        "id": "RGvJe0scAAep",
        "outputId": "b945a01f-b670-4112-c6a1-695d204bc702"
      },
      "outputs": [
        {
          "name": "stdout",
          "output_type": "stream",
          "text": [
            "['anak', 'guna', 'ikut', 'indonesia', 'jadi', 'mulai', 'orang', 'sebut', 'tahun', 'usia']\n",
            "[[0 0 0 0 0 1 1 0 0 0]\n",
            " [0 0 0 0 0 0 0 0 0 0]\n",
            " [0 0 1 0 0 0 0 0 0 0]\n",
            " [0 0 0 0 2 0 0 0 0 0]\n",
            " [0 0 1 0 0 0 0 0 0 0]\n",
            " [0 0 0 0 0 0 0 0 0 0]\n",
            " [0 0 0 0 0 0 0 0 0 0]\n",
            " [0 0 0 0 0 0 0 0 0 0]\n",
            " [0 0 0 0 0 0 0 0 0 0]\n",
            " [0 0 0 0 0 0 0 0 0 0]]\n"
          ]
        }
      ],
      "source": [
        "print(vectorizer_max_features.get_feature_names())\n",
        "print(bow_matrix_max_features.toarray()[:10])"
      ]
    },
    {
      "cell_type": "code",
      "execution_count": null,
      "metadata": {
        "id": "9mTPi34MAGHx"
      },
      "outputs": [],
      "source": [
        "# vectorizer_max_features = CountVectorizer(analyzer='word', ngram_range=(1,3),max_df=3,min_df=2)\n",
        "# bow_matrix_max_features = vectorizer_max_features.fit_transform(kalimat)"
      ]
    },
    {
      "cell_type": "code",
      "execution_count": null,
      "metadata": {
        "id": "rOwQzp_AAJ3v"
      },
      "outputs": [],
      "source": [
        "#print(vectorizer_max_features.get_feature_names())\n",
        "#print(bow_matrix_max_features.toarray())"
      ]
    }
  ],
  "metadata": {
    "colab": {
      "collapsed_sections": [],
      "name": "UTS_PSC.ipynb",
      "provenance": []
    },
    "kernelspec": {
      "display_name": "Python 3",
      "name": "python3"
    },
    "language_info": {
      "name": "python"
    }
  },
  "nbformat": 4,
  "nbformat_minor": 0
}