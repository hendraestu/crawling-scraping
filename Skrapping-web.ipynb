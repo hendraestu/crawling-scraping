{
  "nbformat": 4,
  "nbformat_minor": 0,
  "metadata": {
    "colab": {
      "name": "19090092_uts_bigdata.ipynb",
      "provenance": [],
      "collapsed_sections": []
    },
    "kernelspec": {
      "name": "python3",
      "display_name": "Python 3"
    },
    "language_info": {
      "name": "python"
    }
  },
  "cells": [
    {
      "cell_type": "code",
      "execution_count": null,
      "metadata": {
        "colab": {
          "base_uri": "https://localhost:8080/"
        },
        "id": "1byrJrc05jlU",
        "outputId": "072d2715-d3f4-41a5-cdc2-3d1ac5f025d1"
      },
      "outputs": [
        {
          "name": "stdout",
          "output_type": "stream",
          "text": [
            "inputkan nama data yang di input data-structure.csv\n",
            "inputkan nama output data-unstructure.txt\n"
          ]
        }
      ],
      "source": [
        "import requests\n",
        "import csv\n",
        "from bs4 import BeautifulSoup\n",
        "\n",
        "data_reviews = csv.writer(open('data-structure.csv', 'w'))\n",
        "data_reviews.writerow(['Nama', 'Role', 'Ulasan'])\n",
        "\n",
        "pages = []\n",
        "\n",
        "url = 'https://buildwithangga.com/kelas/full-stack-laravel-kotlin-foodmarket-apps'\n",
        "pages.append(url)\n",
        "\n",
        "for item in pages:\n",
        "  page = requests.get(item)\n",
        "  soup = BeautifulSoup(page.text, 'html.parser')\n",
        "    \n",
        "  review_content = soup.find('div', {'id': 'pills-profile'})\n",
        "\n",
        "  review_items = review_content.find_all(class_='item-review')\n",
        "\n",
        "  for reviews in review_items:\n",
        "    name = reviews.find(class_='name').get_text()\n",
        "    role = reviews.find(class_='role').get_text()\n",
        "    review = reviews.find(class_='review').get_text()\n",
        "\n",
        "    data_reviews.writerow([name, role, review])\n",
        "\n",
        "csv_file = input('inputkan nama data yang di input ')\n",
        "txt_file = input('inputkan nama output ')\n",
        "with open(txt_file, 'w') as my_output_file:\n",
        "    with open(csv_file, \"r\") as my_input_file:\n",
        "        [ my_output_file.write(\" \".join(row)+'\\n') for row in csv.reader(my_input_file)]\n",
        "    my_output_file.close()"
      ]
    },
    {
      "cell_type": "code",
      "source": [
        ""
      ],
      "metadata": {
        "id": "GOAkDs_r6p-j"
      },
      "execution_count": null,
      "outputs": []
    }
  ]
}